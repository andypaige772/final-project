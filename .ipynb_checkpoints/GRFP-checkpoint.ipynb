{
 "cells": [
  {
   "cell_type": "code",
   "execution_count": 1,
   "metadata": {},
   "outputs": [],
   "source": [
    "#Import pandas for data frames, pathlib for importing .txt file, and matplotlib for datavisualization\n",
    "\n",
    "import pandas as pd\n",
    "import numpy as np\n",
    "import pathlib\n",
    "import matplotlib.pyplot as plt \n",
    "import seaborn as sns\n",
    "#from statsmodels.graphics.mosaicplot import mosaic"
   ]
  },
  {
   "cell_type": "code",
   "execution_count": 1,
   "metadata": {},
   "outputs": [
    {
     "data": {
      "text/plain": [
       "'C:\\\\Users\\\\andyp\\\\biof309\\\\spring2020\\\\notebooks\\\\2020-02-06'"
      ]
     },
     "execution_count": 1,
     "metadata": {},
     "output_type": "execute_result"
    }
   ],
   "source": [
    "%pwd"
   ]
  },
  {
   "cell_type": "code",
   "execution_count": null,
   "metadata": {},
   "outputs": [],
   "source": [
    "cd "
   ]
  },
  {
   "cell_type": "code",
   "execution_count": 2,
   "metadata": {},
   "outputs": [
    {
     "data": {
      "text/plain": [
       "True"
      ]
     },
     "execution_count": 2,
     "metadata": {},
     "output_type": "execute_result"
    }
   ],
   "source": [
    "#Set p as pathlib.Path.home() to set path for importing data\n",
    "p = pathlib.Path.home()\n",
    "\n",
    "#Set path for final project\n",
    "p / \"biof309\" / 'final-project'\n",
    "\n",
    "#Check to see if path exists\n",
    "p.exists()"
   ]
  },
  {
   "cell_type": "code",
   "execution_count": 3,
   "metadata": {},
   "outputs": [
    {
     "data": {
      "text/html": [
       "<div>\n",
       "<style scoped>\n",
       "    .dataframe tbody tr th:only-of-type {\n",
       "        vertical-align: middle;\n",
       "    }\n",
       "\n",
       "    .dataframe tbody tr th {\n",
       "        vertical-align: top;\n",
       "    }\n",
       "\n",
       "    .dataframe thead th {\n",
       "        text-align: right;\n",
       "    }\n",
       "</style>\n",
       "<table border=\"1\" class=\"dataframe\">\n",
       "  <thead>\n",
       "    <tr style=\"text-align: right;\">\n",
       "      <th></th>\n",
       "      <th>Name</th>\n",
       "      <th>Baccalaureate Institution</th>\n",
       "      <th>Field of Study</th>\n",
       "      <th>Current Institution</th>\n",
       "    </tr>\n",
       "  </thead>\n",
       "  <tbody>\n",
       "    <tr>\n",
       "      <td>0</td>\n",
       "      <td>Abbott, Kathleen Emma</td>\n",
       "      <td>UNIVERSITY OF CALIFORNIA, BERKELEY</td>\n",
       "      <td>Geosciences - Physical Oceanography</td>\n",
       "      <td>NaN</td>\n",
       "    </tr>\n",
       "    <tr>\n",
       "      <td>1</td>\n",
       "      <td>Abele, Taylor Jane</td>\n",
       "      <td>University of North Carolina at Chapel Hill</td>\n",
       "      <td>Life Sciences - Cell Biology</td>\n",
       "      <td>University of North Carolina at Chapel Hill</td>\n",
       "    </tr>\n",
       "    <tr>\n",
       "      <td>2</td>\n",
       "      <td>Abrams, Samantha Rose</td>\n",
       "      <td>Skidmore College</td>\n",
       "      <td>Psychology - Social Psychology</td>\n",
       "      <td>NaN</td>\n",
       "    </tr>\n",
       "    <tr>\n",
       "      <td>3</td>\n",
       "      <td>Abramson, Haley Gilbert</td>\n",
       "      <td>Massachusetts Institute of Technology</td>\n",
       "      <td>Engineering - Biomedical Engineering</td>\n",
       "      <td>JOHNS HOPKINS UNIVERSITY</td>\n",
       "    </tr>\n",
       "    <tr>\n",
       "      <td>4</td>\n",
       "      <td>Abreha, Biruk Gezahegn</td>\n",
       "      <td>Northeastern University</td>\n",
       "      <td>Chemistry - Chemical Theory, Models and Comput...</td>\n",
       "      <td>Northeastern University</td>\n",
       "    </tr>\n",
       "  </tbody>\n",
       "</table>\n",
       "</div>"
      ],
      "text/plain": [
       "                      Name                    Baccalaureate Institution  \\\n",
       "0    Abbott, Kathleen Emma           UNIVERSITY OF CALIFORNIA, BERKELEY   \n",
       "1       Abele, Taylor Jane  University of North Carolina at Chapel Hill   \n",
       "2    Abrams, Samantha Rose                             Skidmore College   \n",
       "3  Abramson, Haley Gilbert        Massachusetts Institute of Technology   \n",
       "4   Abreha, Biruk Gezahegn                      Northeastern University   \n",
       "\n",
       "                                      Field of Study  \\\n",
       "0                Geosciences - Physical Oceanography   \n",
       "1                       Life Sciences - Cell Biology   \n",
       "2                     Psychology - Social Psychology   \n",
       "3               Engineering - Biomedical Engineering   \n",
       "4  Chemistry - Chemical Theory, Models and Comput...   \n",
       "\n",
       "                           Current Institution  \n",
       "0                                          NaN  \n",
       "1  University of North Carolina at Chapel Hill  \n",
       "2                                          NaN  \n",
       "3                     JOHNS HOPKINS UNIVERSITY  \n",
       "4                      Northeastern University  "
      ]
     },
     "execution_count": 3,
     "metadata": {},
     "output_type": "execute_result"
    }
   ],
   "source": [
    "#Set path for Awarded text file\n",
    "GRFP1 = p / \"biof309\" / 'final-project'/\"GRFP1.txt\"\n",
    "#Set df1 as a pandas dataframe from .txt file, read using read_csv with sep=\"\\t\" as deliminator\n",
    "df1 = pd.read_csv(GRFP1, sep=\"\\t\")\n",
    "#View head of dataframe\n",
    "df1.head()"
   ]
  },
  {
   "cell_type": "code",
   "execution_count": 4,
   "metadata": {},
   "outputs": [
    {
     "data": {
      "text/html": [
       "<div>\n",
       "<style scoped>\n",
       "    .dataframe tbody tr th:only-of-type {\n",
       "        vertical-align: middle;\n",
       "    }\n",
       "\n",
       "    .dataframe tbody tr th {\n",
       "        vertical-align: top;\n",
       "    }\n",
       "\n",
       "    .dataframe thead th {\n",
       "        text-align: right;\n",
       "    }\n",
       "</style>\n",
       "<table border=\"1\" class=\"dataframe\">\n",
       "  <thead>\n",
       "    <tr style=\"text-align: right;\">\n",
       "      <th></th>\n",
       "      <th>Name</th>\n",
       "      <th>Baccalaureate Institution</th>\n",
       "      <th>Field of Study</th>\n",
       "      <th>Current Institution</th>\n",
       "    </tr>\n",
       "  </thead>\n",
       "  <tbody>\n",
       "    <tr>\n",
       "      <td>0</td>\n",
       "      <td>Abe, Mahiro</td>\n",
       "      <td>Cornell University</td>\n",
       "      <td>Physics and Astronomy - Astronomy and Astrophy...</td>\n",
       "      <td>Cornell University</td>\n",
       "    </tr>\n",
       "    <tr>\n",
       "      <td>1</td>\n",
       "      <td>Abellera, Cierra Maya</td>\n",
       "      <td>Boise State University</td>\n",
       "      <td>Psychology - Social Psychology</td>\n",
       "      <td>UNIVERSITY OF MASSACHUSETTS AMHERST</td>\n",
       "    </tr>\n",
       "    <tr>\n",
       "      <td>2</td>\n",
       "      <td>Abraham, Evelyn Jane</td>\n",
       "      <td>Winthrop University</td>\n",
       "      <td>Life Sciences - other (specify) - Plant Biology</td>\n",
       "      <td>Pennsylvania State Univ University Park</td>\n",
       "    </tr>\n",
       "    <tr>\n",
       "      <td>3</td>\n",
       "      <td>Abushawish, Marwan Abdallah</td>\n",
       "      <td>UNIVERSITY OF CALIFORNIA, BERKELEY</td>\n",
       "      <td>Life Sciences - other (specify) - Immunology</td>\n",
       "      <td>NaN</td>\n",
       "    </tr>\n",
       "    <tr>\n",
       "      <td>4</td>\n",
       "      <td>Acevedo-Sanchez, Yamilex</td>\n",
       "      <td>University of Puerto Rico Mayaguez</td>\n",
       "      <td>Life Sciences - Cell Biology</td>\n",
       "      <td>Massachusetts Institute of Technology</td>\n",
       "    </tr>\n",
       "  </tbody>\n",
       "</table>\n",
       "</div>"
      ],
      "text/plain": [
       "                          Name           Baccalaureate Institution  \\\n",
       "0                  Abe, Mahiro                  Cornell University   \n",
       "1        Abellera, Cierra Maya              Boise State University   \n",
       "2         Abraham, Evelyn Jane                 Winthrop University   \n",
       "3  Abushawish, Marwan Abdallah  UNIVERSITY OF CALIFORNIA, BERKELEY   \n",
       "4     Acevedo-Sanchez, Yamilex  University of Puerto Rico Mayaguez   \n",
       "\n",
       "                                      Field of Study  \\\n",
       "0  Physics and Astronomy - Astronomy and Astrophy...   \n",
       "1                     Psychology - Social Psychology   \n",
       "2    Life Sciences - other (specify) - Plant Biology   \n",
       "3       Life Sciences - other (specify) - Immunology   \n",
       "4                       Life Sciences - Cell Biology   \n",
       "\n",
       "                       Current Institution  \n",
       "0                       Cornell University  \n",
       "1      UNIVERSITY OF MASSACHUSETTS AMHERST  \n",
       "2  Pennsylvania State Univ University Park  \n",
       "3                                      NaN  \n",
       "4    Massachusetts Institute of Technology  "
      ]
     },
     "execution_count": 4,
     "metadata": {},
     "output_type": "execute_result"
    }
   ],
   "source": [
    "#Set path for Honorable Mention text file\n",
    "GRFP2 = p / \"biof309\" / 'final-project' / \"GRFP2.txt\"\n",
    "#Set df2 as a pandas dataframe from .txt file, read using read_csv with sep=\"\\t\" as deliminator\n",
    "df2 = pd.read_csv(GRFP2, sep=\"\\t\")\n",
    "#View head of dataframe\n",
    "df2.head()"
   ]
  },
  {
   "cell_type": "code",
   "execution_count": 5,
   "metadata": {},
   "outputs": [],
   "source": [
    "#Add column for award status for either Awarded or Honorable Mention\n",
    "\n",
    "df1['Award Status'] = 'Awarded'\n",
    "df2['Award Status'] = 'Honorable Mention'"
   ]
  },
  {
   "cell_type": "code",
   "execution_count": 6,
   "metadata": {},
   "outputs": [
    {
     "data": {
      "text/html": [
       "<div>\n",
       "<style scoped>\n",
       "    .dataframe tbody tr th:only-of-type {\n",
       "        vertical-align: middle;\n",
       "    }\n",
       "\n",
       "    .dataframe tbody tr th {\n",
       "        vertical-align: top;\n",
       "    }\n",
       "\n",
       "    .dataframe thead th {\n",
       "        text-align: right;\n",
       "    }\n",
       "</style>\n",
       "<table border=\"1\" class=\"dataframe\">\n",
       "  <thead>\n",
       "    <tr style=\"text-align: right;\">\n",
       "      <th></th>\n",
       "      <th>Name</th>\n",
       "      <th>Baccalaureate Institution</th>\n",
       "      <th>Field of Study</th>\n",
       "      <th>Current Institution</th>\n",
       "      <th>Award Status</th>\n",
       "    </tr>\n",
       "  </thead>\n",
       "  <tbody>\n",
       "    <tr>\n",
       "      <td>0</td>\n",
       "      <td>Abbott, Kathleen Emma</td>\n",
       "      <td>UNIVERSITY OF CALIFORNIA, BERKELEY</td>\n",
       "      <td>Geosciences - Physical Oceanography</td>\n",
       "      <td>NaN</td>\n",
       "      <td>Awarded</td>\n",
       "    </tr>\n",
       "    <tr>\n",
       "      <td>1</td>\n",
       "      <td>Abele, Taylor Jane</td>\n",
       "      <td>University of North Carolina at Chapel Hill</td>\n",
       "      <td>Life Sciences - Cell Biology</td>\n",
       "      <td>University of North Carolina at Chapel Hill</td>\n",
       "      <td>Awarded</td>\n",
       "    </tr>\n",
       "    <tr>\n",
       "      <td>2</td>\n",
       "      <td>Abrams, Samantha Rose</td>\n",
       "      <td>Skidmore College</td>\n",
       "      <td>Psychology - Social Psychology</td>\n",
       "      <td>NaN</td>\n",
       "      <td>Awarded</td>\n",
       "    </tr>\n",
       "    <tr>\n",
       "      <td>3</td>\n",
       "      <td>Abramson, Haley Gilbert</td>\n",
       "      <td>Massachusetts Institute of Technology</td>\n",
       "      <td>Engineering - Biomedical Engineering</td>\n",
       "      <td>JOHNS HOPKINS UNIVERSITY</td>\n",
       "      <td>Awarded</td>\n",
       "    </tr>\n",
       "    <tr>\n",
       "      <td>4</td>\n",
       "      <td>Abreha, Biruk Gezahegn</td>\n",
       "      <td>Northeastern University</td>\n",
       "      <td>Chemistry - Chemical Theory, Models and Comput...</td>\n",
       "      <td>Northeastern University</td>\n",
       "      <td>Awarded</td>\n",
       "    </tr>\n",
       "  </tbody>\n",
       "</table>\n",
       "</div>"
      ],
      "text/plain": [
       "                      Name                    Baccalaureate Institution  \\\n",
       "0    Abbott, Kathleen Emma           UNIVERSITY OF CALIFORNIA, BERKELEY   \n",
       "1       Abele, Taylor Jane  University of North Carolina at Chapel Hill   \n",
       "2    Abrams, Samantha Rose                             Skidmore College   \n",
       "3  Abramson, Haley Gilbert        Massachusetts Institute of Technology   \n",
       "4   Abreha, Biruk Gezahegn                      Northeastern University   \n",
       "\n",
       "                                      Field of Study  \\\n",
       "0                Geosciences - Physical Oceanography   \n",
       "1                       Life Sciences - Cell Biology   \n",
       "2                     Psychology - Social Psychology   \n",
       "3               Engineering - Biomedical Engineering   \n",
       "4  Chemistry - Chemical Theory, Models and Comput...   \n",
       "\n",
       "                           Current Institution Award Status  \n",
       "0                                          NaN      Awarded  \n",
       "1  University of North Carolina at Chapel Hill      Awarded  \n",
       "2                                          NaN      Awarded  \n",
       "3                     JOHNS HOPKINS UNIVERSITY      Awarded  \n",
       "4                      Northeastern University      Awarded  "
      ]
     },
     "execution_count": 6,
     "metadata": {},
     "output_type": "execute_result"
    }
   ],
   "source": [
    "#View new head of data to see new column and values\n",
    "df1.head()"
   ]
  },
  {
   "cell_type": "code",
   "execution_count": 7,
   "metadata": {},
   "outputs": [
    {
     "data": {
      "text/html": [
       "<div>\n",
       "<style scoped>\n",
       "    .dataframe tbody tr th:only-of-type {\n",
       "        vertical-align: middle;\n",
       "    }\n",
       "\n",
       "    .dataframe tbody tr th {\n",
       "        vertical-align: top;\n",
       "    }\n",
       "\n",
       "    .dataframe thead th {\n",
       "        text-align: right;\n",
       "    }\n",
       "</style>\n",
       "<table border=\"1\" class=\"dataframe\">\n",
       "  <thead>\n",
       "    <tr style=\"text-align: right;\">\n",
       "      <th></th>\n",
       "      <th>Name</th>\n",
       "      <th>Baccalaureate Institution</th>\n",
       "      <th>Field of Study</th>\n",
       "      <th>Current Institution</th>\n",
       "      <th>Award Status</th>\n",
       "    </tr>\n",
       "  </thead>\n",
       "  <tbody>\n",
       "    <tr>\n",
       "      <td>0</td>\n",
       "      <td>Abe, Mahiro</td>\n",
       "      <td>Cornell University</td>\n",
       "      <td>Physics and Astronomy - Astronomy and Astrophy...</td>\n",
       "      <td>Cornell University</td>\n",
       "      <td>Honorable Mention</td>\n",
       "    </tr>\n",
       "    <tr>\n",
       "      <td>1</td>\n",
       "      <td>Abellera, Cierra Maya</td>\n",
       "      <td>Boise State University</td>\n",
       "      <td>Psychology - Social Psychology</td>\n",
       "      <td>UNIVERSITY OF MASSACHUSETTS AMHERST</td>\n",
       "      <td>Honorable Mention</td>\n",
       "    </tr>\n",
       "    <tr>\n",
       "      <td>2</td>\n",
       "      <td>Abraham, Evelyn Jane</td>\n",
       "      <td>Winthrop University</td>\n",
       "      <td>Life Sciences - other (specify) - Plant Biology</td>\n",
       "      <td>Pennsylvania State Univ University Park</td>\n",
       "      <td>Honorable Mention</td>\n",
       "    </tr>\n",
       "    <tr>\n",
       "      <td>3</td>\n",
       "      <td>Abushawish, Marwan Abdallah</td>\n",
       "      <td>UNIVERSITY OF CALIFORNIA, BERKELEY</td>\n",
       "      <td>Life Sciences - other (specify) - Immunology</td>\n",
       "      <td>NaN</td>\n",
       "      <td>Honorable Mention</td>\n",
       "    </tr>\n",
       "    <tr>\n",
       "      <td>4</td>\n",
       "      <td>Acevedo-Sanchez, Yamilex</td>\n",
       "      <td>University of Puerto Rico Mayaguez</td>\n",
       "      <td>Life Sciences - Cell Biology</td>\n",
       "      <td>Massachusetts Institute of Technology</td>\n",
       "      <td>Honorable Mention</td>\n",
       "    </tr>\n",
       "  </tbody>\n",
       "</table>\n",
       "</div>"
      ],
      "text/plain": [
       "                          Name           Baccalaureate Institution  \\\n",
       "0                  Abe, Mahiro                  Cornell University   \n",
       "1        Abellera, Cierra Maya              Boise State University   \n",
       "2         Abraham, Evelyn Jane                 Winthrop University   \n",
       "3  Abushawish, Marwan Abdallah  UNIVERSITY OF CALIFORNIA, BERKELEY   \n",
       "4     Acevedo-Sanchez, Yamilex  University of Puerto Rico Mayaguez   \n",
       "\n",
       "                                      Field of Study  \\\n",
       "0  Physics and Astronomy - Astronomy and Astrophy...   \n",
       "1                     Psychology - Social Psychology   \n",
       "2    Life Sciences - other (specify) - Plant Biology   \n",
       "3       Life Sciences - other (specify) - Immunology   \n",
       "4                       Life Sciences - Cell Biology   \n",
       "\n",
       "                       Current Institution       Award Status  \n",
       "0                       Cornell University  Honorable Mention  \n",
       "1      UNIVERSITY OF MASSACHUSETTS AMHERST  Honorable Mention  \n",
       "2  Pennsylvania State Univ University Park  Honorable Mention  \n",
       "3                                      NaN  Honorable Mention  \n",
       "4    Massachusetts Institute of Technology  Honorable Mention  "
      ]
     },
     "execution_count": 7,
     "metadata": {},
     "output_type": "execute_result"
    }
   ],
   "source": [
    "#View new head of data to see new column and values\n",
    "df2.head()"
   ]
  },
  {
   "cell_type": "code",
   "execution_count": 8,
   "metadata": {},
   "outputs": [
    {
     "data": {
      "text/html": [
       "<div>\n",
       "<style scoped>\n",
       "    .dataframe tbody tr th:only-of-type {\n",
       "        vertical-align: middle;\n",
       "    }\n",
       "\n",
       "    .dataframe tbody tr th {\n",
       "        vertical-align: top;\n",
       "    }\n",
       "\n",
       "    .dataframe thead th {\n",
       "        text-align: right;\n",
       "    }\n",
       "</style>\n",
       "<table border=\"1\" class=\"dataframe\">\n",
       "  <thead>\n",
       "    <tr style=\"text-align: right;\">\n",
       "      <th></th>\n",
       "      <th>Name</th>\n",
       "      <th>Baccalaureate Institution</th>\n",
       "      <th>Field of Study</th>\n",
       "      <th>Current Institution</th>\n",
       "      <th>Award Status</th>\n",
       "    </tr>\n",
       "  </thead>\n",
       "  <tbody>\n",
       "    <tr>\n",
       "      <td>0</td>\n",
       "      <td>Abbott, Kathleen Emma</td>\n",
       "      <td>UNIVERSITY OF CALIFORNIA, BERKELEY</td>\n",
       "      <td>Geosciences - Physical Oceanography</td>\n",
       "      <td>NaN</td>\n",
       "      <td>Awarded</td>\n",
       "    </tr>\n",
       "    <tr>\n",
       "      <td>0</td>\n",
       "      <td>Abe, Mahiro</td>\n",
       "      <td>Cornell University</td>\n",
       "      <td>Physics and Astronomy - Astronomy and Astrophy...</td>\n",
       "      <td>Cornell University</td>\n",
       "      <td>Honorable Mention</td>\n",
       "    </tr>\n",
       "    <tr>\n",
       "      <td>1</td>\n",
       "      <td>Abele, Taylor Jane</td>\n",
       "      <td>University of North Carolina at Chapel Hill</td>\n",
       "      <td>Life Sciences - Cell Biology</td>\n",
       "      <td>University of North Carolina at Chapel Hill</td>\n",
       "      <td>Awarded</td>\n",
       "    </tr>\n",
       "    <tr>\n",
       "      <td>1</td>\n",
       "      <td>Abellera, Cierra Maya</td>\n",
       "      <td>Boise State University</td>\n",
       "      <td>Psychology - Social Psychology</td>\n",
       "      <td>UNIVERSITY OF MASSACHUSETTS AMHERST</td>\n",
       "      <td>Honorable Mention</td>\n",
       "    </tr>\n",
       "    <tr>\n",
       "      <td>2</td>\n",
       "      <td>Abraham, Evelyn Jane</td>\n",
       "      <td>Winthrop University</td>\n",
       "      <td>Life Sciences - other (specify) - Plant Biology</td>\n",
       "      <td>Pennsylvania State Univ University Park</td>\n",
       "      <td>Honorable Mention</td>\n",
       "    </tr>\n",
       "  </tbody>\n",
       "</table>\n",
       "</div>"
      ],
      "text/plain": [
       "                    Name                    Baccalaureate Institution  \\\n",
       "0  Abbott, Kathleen Emma           UNIVERSITY OF CALIFORNIA, BERKELEY   \n",
       "0            Abe, Mahiro                           Cornell University   \n",
       "1     Abele, Taylor Jane  University of North Carolina at Chapel Hill   \n",
       "1  Abellera, Cierra Maya                       Boise State University   \n",
       "2   Abraham, Evelyn Jane                          Winthrop University   \n",
       "\n",
       "                                      Field of Study  \\\n",
       "0                Geosciences - Physical Oceanography   \n",
       "0  Physics and Astronomy - Astronomy and Astrophy...   \n",
       "1                       Life Sciences - Cell Biology   \n",
       "1                     Psychology - Social Psychology   \n",
       "2    Life Sciences - other (specify) - Plant Biology   \n",
       "\n",
       "                           Current Institution       Award Status  \n",
       "0                                          NaN            Awarded  \n",
       "0                           Cornell University  Honorable Mention  \n",
       "1  University of North Carolina at Chapel Hill            Awarded  \n",
       "1          UNIVERSITY OF MASSACHUSETTS AMHERST  Honorable Mention  \n",
       "2      Pennsylvania State Univ University Park  Honorable Mention  "
      ]
     },
     "execution_count": 8,
     "metadata": {},
     "output_type": "execute_result"
    }
   ],
   "source": [
    "#Concatenat both data frames\n",
    "result = pd.concat([df1,df2])\n",
    "\n",
    "#Sort values by alphabetical order by name\n",
    "df= result.sort_values('Name', ascending=True)\n",
    "\n",
    "#View head of new dataframe\n",
    "df.head()"
   ]
  },
  {
   "cell_type": "code",
   "execution_count": 64,
   "metadata": {},
   "outputs": [
    {
     "data": {
      "text/plain": [
       "425"
      ]
     },
     "execution_count": 64,
     "metadata": {},
     "output_type": "execute_result"
    }
   ],
   "source": [
    "#column_values = df[[\"Baccalaureate Institution\", \"Current Institution\"]].values.ravel()\n",
    "BI = np.unique(df['Baccalaureate Institution'])\n",
    "#print(BI)\n",
    "len(CI)"
   ]
  },
  {
   "cell_type": "code",
   "execution_count": 81,
   "metadata": {},
   "outputs": [
    {
     "name": "stdout",
     "output_type": "stream",
     "text": [
      "['UNIVERSITY OF CALIFORNIA, BERKELEY' 'Cornell University'\n",
      " 'University of North Carolina at Chapel Hill' 'Boise State University'\n",
      " 'Winthrop University' 'Skidmore College'\n",
      " 'Massachusetts Institute of Technology' 'Northeastern University'\n",
      " 'Tufts University' 'University of Puerto Rico Mayaguez'\n",
      " 'University of Pittsburgh' 'Stanford University' 'UNIVERSITY OF ILLINOIS'\n",
      " 'William Marsh Rice University' 'Purdue University'\n",
      " 'University of Minnesota-Twin Cities' 'University of Southern California'\n",
      " 'Westminster College of Salt Lake City' 'UNIVERSITY OF WASHINGTON'\n",
      " 'Howard University' 'University of Dayton'\n",
      " 'North Carolina State University' 'Lafayette College'\n",
      " 'University of Texas at Austin' 'University of Chicago'\n",
      " 'University of Utah' 'Oregon State University' 'Dartmouth College'\n",
      " 'UNIVERSITY OF MASSACHUSETTS AMHERST' 'Roger Williams University'\n",
      " 'Humboldt State University Foundation' 'OHIO STATE UNIVERSITY'\n",
      " 'California State University Los Angeles' 'NEW MEXICO STATE UNIVERSITY'\n",
      " 'Seattle University' 'Williams College' 'Washington State University'\n",
      " 'Manhattan College' 'CUNY Brooklyn College'\n",
      " 'California Institute of Technology'\n",
      " 'University of North Carolina at Charlotte' 'SAN DIEGO STATE UNIVERSITY'\n",
      " 'Michigan State University' 'Florida State University'\n",
      " 'Saint Lawrence University' 'Arizona State University'\n",
      " 'University of Puerto Rico-Rio Piedras'\n",
      " 'University of Michigan Ann Arbor' 'University of Colorado at Boulder'\n",
      " 'Wesleyan University' 'Grinnell College' 'Saint Olaf College'\n",
      " 'San Jose State University' 'UNIVERSITY OF CALIFORNIA SAN DIEGO'\n",
      " 'DREXEL UNIVERSITY' 'Wayne State University'\n",
      " 'Florida International University' 'Pennsylvania State University'\n",
      " 'University of Oklahoma Norman Campus' 'Oberlin College'\n",
      " 'University of Rochester' 'Villanova University'\n",
      " 'Colorado State University' 'University of Texas at Dallas'\n",
      " 'University of Kentucky' 'Bates College'\n",
      " 'University of Wisconsin-River Falls' 'Barnard College'\n",
      " 'University of California-Riverside' 'Texas A&M University Main Campus'\n",
      " 'University of South Carolina at Columbia' 'Assumption College'\n",
      " 'University Corporation at Monterey Bay' 'University of Pennsylvania'\n",
      " 'University of California-San Diego' 'Harvey Mudd College'\n",
      " 'College of William and Mary' 'University of Wisconsin-Madison'\n",
      " 'University of Dallas' 'MIAMI UNIVERSITY'\n",
      " 'Georgia Institute of Technology' 'Rochester Institute of Tech'\n",
      " 'Lawrence University' 'Princeton University' 'University of Richmond'\n",
      " 'University of New Mexico' 'Binghamton University'\n",
      " 'University of Georgia' 'Pennsylvania State Univ University Park'\n",
      " 'University of California-Santa Cruz' 'Duke University'\n",
      " 'Columbia University' 'New College of Florida' 'MARQUETTE UNIVERSITY'\n",
      " 'University of Notre Dame' 'Colorado School of Mines' 'Eckerd College'\n",
      " 'University of Illinois at Urbana-Champaign'\n",
      " 'California State University-Dominguez Hills'\n",
      " 'West Chester University of Pennsylvania'\n",
      " 'Illinois Institute of Technology' 'Temple University'\n",
      " 'University of Central Florida' 'Indiana University'\n",
      " 'University of Florida' 'Montana State University'\n",
      " 'Vanderbilt University' 'Texas State University - San Marcos'\n",
      " 'Wheaton College' 'Bennington College' 'Brigham Young University'\n",
      " 'University of Maryland College Park' 'Rutgers University New Brunswick'\n",
      " 'Stetson University' 'University of Maryland Baltimore County'\n",
      " 'McGill University' 'UNIVERSITY OF VIRGINIA' 'University of Delaware'\n",
      " 'UNIVERSITY OF MARYLAND' 'University of California-Los Angeles'\n",
      " 'Scripps College' 'University of  Puget Sound' 'Miami University'\n",
      " 'Hobart and William Smith Colleges' 'Northwestern University'\n",
      " 'California State University-Fullerton' 'Reed College'\n",
      " 'University of Oregon Eugene' 'University of San Diego'\n",
      " 'UNIVERSITY OF KANSAS' 'Benedictine College' 'Covenant College'\n",
      " 'Gettysburg College' 'CALIFORNIA STATE UNIVERSITY, NORTHRIDGE'\n",
      " 'SUNY, UNIVERSITY AT BUFFALO' 'Tulane University' 'Mount Holyoke College'\n",
      " 'University of Arizona' 'Carroll College' 'Macalester College'\n",
      " 'Concordia College at Saint Paul' 'University of Illinois at Chicago'\n",
      " 'University of Texas at El Paso' 'CORNELL UNIVERSITY'\n",
      " 'Samford University' 'Washington University' 'University of Iowa'\n",
      " 'Brown University' 'University of Tulsa'\n",
      " 'Louisiana State University & Agricultural and Mechanical College'\n",
      " 'University of Connecticut'\n",
      " 'VIRGINIA POLYTECHNIC INSTITUTE & STATE UNIVERSITY'\n",
      " 'Southwestern University' 'George Mason University' 'CUNY City College'\n",
      " 'Whitman College' 'Harvard University' 'University of California-Davis'\n",
      " 'Trustees of Boston University' 'University of Massachusetts Amherst'\n",
      " 'University of New Hampshire' 'Iowa State University' 'Yale University'\n",
      " 'Boston College' 'SUNY at Buffalo'\n",
      " 'RUTGERS, THE STATE UNIVERSITY OF NEW JERSEY'\n",
      " 'University of Nebraska-Lincoln' 'Ohio State University'\n",
      " 'University of Louisville' 'University of Missouri-Kansas City'\n",
      " 'NSHE Board of Regents on behalf of Nevada State College'\n",
      " 'Bryn Mawr College' \"Texas Woman's University\"\n",
      " 'California State University-Stanislaus' 'University of Rhode Island'\n",
      " 'SUNY Polytechnic Institute' 'University of South Florida'\n",
      " 'North Dakota State University Fargo' 'University of Tennessee Knoxville'\n",
      " 'Eastern University' 'Georgia State University' 'Haverford College'\n",
      " 'University of Akron' 'Vassar College' 'Beloit College'\n",
      " 'Occidental College' 'Roanoke College' 'Colby College' 'Pomona College'\n",
      " 'University of California-Santa Barbara'\n",
      " 'Western Connecticut State University'\n",
      " 'University of North Carolina at Wilmington'\n",
      " 'California Polytechnic State University' 'Fairfield University'\n",
      " 'Murray State University' 'University of Arkansas' 'Goshen College'\n",
      " 'Bard College' 'UNIVERSITY OF ARIZONA' 'Pitzer College'\n",
      " 'New Mexico State University' 'BRANDEIS UNIVERSITY'\n",
      " 'University of Vermont & State Agricultural College'\n",
      " 'Florida Agricultural and Mechanical University'\n",
      " 'Carnegie-Mellon University' 'University of Montana' 'Bowdoin College'\n",
      " 'Nicholls State University' 'Creighton University' 'Ohio University'\n",
      " 'Utah State University' 'BRIDGEWATER STATE UNIVERSITY'\n",
      " 'Clemson University' 'Emory University'\n",
      " 'Southwestern Oklahoma State University' 'Morgan State University'\n",
      " 'Albion College' 'New Mexico Highlands University' 'Trinity College'\n",
      " 'Erskine College' 'University of Texas at Arlington'\n",
      " 'University of Texas at San Antonio'\n",
      " 'HARVARD COLLEGE, PRESIDENT & FELLOWS OF' 'Santa Clara University'\n",
      " 'Drew University' 'University of New England' 'Georgetown University'\n",
      " 'University of California-Berkeley' 'Whitworth University'\n",
      " 'Augsburg College' 'Clark Atlanta University'\n",
      " 'University of Nebraska at Omaha' 'Jacksonville University'\n",
      " 'University of Evansville' 'University of Nevada Las Vegas'\n",
      " 'Hamilton College' 'West Virginia University'\n",
      " 'CUNY John Jay College of Criminal Justice' 'CUNY Hunter College'\n",
      " 'Evergreen State College' 'Louisiana State University' 'Rhodes College'\n",
      " 'Chapman University' 'Amherst College' 'Carleton College'\n",
      " 'STONY BROOK UNIVERSITY' 'GEORGE WASHINGTON UNIVERSITY, THE'\n",
      " 'Calvin College' 'Pace University New York Campus'\n",
      " 'University of British Columbia' 'Boston University'\n",
      " 'SUNY College at Oneonta' 'Queens College' 'Johns Hopkins University'\n",
      " 'NEW YORK UNIVERSITY' 'UNIVERSITY OF MARYLAND BALTIMORE COUNTY'\n",
      " 'Portland State University' 'Aquinas College'\n",
      " 'University of North Georgia' 'University of Guam' 'University of Idaho'\n",
      " 'Knox College' 'Bethel University' 'Rutgers University Newark'\n",
      " 'University of Tampa' 'Florida Atlantic University'\n",
      " 'East Tennessee State University' 'Michigan Technological University'\n",
      " 'Chestnut Hill College' 'Clarkson University' 'Kenyon College'\n",
      " 'Fort Hays State University' 'Centre College of Kentucky'\n",
      " 'Mississippi State University' 'University of Missouri-Columbia'\n",
      " 'Southern Illinois University at Carbondale'\n",
      " 'California State University-Long Beach'\n",
      " 'Calumet College of Saint Joseph'\n",
      " 'California State University Channel Islands' 'JOHNS HOPKINS UNIVERSITY'\n",
      " 'California State University-Sacramento' 'Millersville University'\n",
      " 'University of Southern Mississippi' 'Florida Memorial University'\n",
      " 'Worcester Polytechnic Institute' 'University of Nevada, Reno'\n",
      " 'University of Massachusetts Boston' 'Northern Arizona University'\n",
      " 'Dickinson College' 'Earlham College'\n",
      " 'SUNY College of Environmental Science and Forestry' 'Wellesley College'\n",
      " 'The College of Idaho' 'University of Alabama at Birmingham'\n",
      " \"St Mary's College of Maryland\" 'West Virginia Wesleyan College'\n",
      " 'Central Michigan University' 'University of Maryland'\n",
      " 'University of California, Los Angeles' 'Valdosta State University'\n",
      " 'Sonoma State University' 'Cleveland State University'\n",
      " 'Rensselaer Polytechnic Institute' 'Rollins College'\n",
      " 'New Mexico Institute of Mining and Technology' 'Trinity University'\n",
      " 'Angelo State University' 'Missouri University of Science and Technology'\n",
      " 'Grand Valley State University' 'University of California, Santa Barbara'\n",
      " 'University of Alabama Tuscaloosa' 'University of California - Merced'\n",
      " 'Franklin and Marshall College' 'TEXAS A&M UNIVERSITY SYSTEM,THE'\n",
      " 'University of Missouri' 'Smith College'\n",
      " 'University of Massachusetts Lowell'\n",
      " 'Pennsylvania State University at Erie-Behrend College' 'Ithaca College'\n",
      " 'Morehouse College' 'Winona State University' 'University of Hawaii'\n",
      " 'Luther College' 'Lehigh University' 'Middlebury College'\n",
      " 'Millsaps College' 'Mercer University' 'UNIVERSITY OF KENTUCKY'\n",
      " 'University of Wyoming' 'UNIVERSITY AT ALBANY' 'Alfred University'\n",
      " 'Appalachian State University' 'University of Alaska Fairbanks Campus'\n",
      " 'University of Hawaii at Hilo' 'Technical University of Berlin'\n",
      " 'Davidson College' 'The College of New Jersey' 'Mount Union College'\n",
      " 'Washington State University - Vancouver'\n",
      " 'California State University San Bernardino'\n",
      " 'California State University, Chico' 'Colorado College'\n",
      " 'State University of New York College at Oneonta' 'Capital University'\n",
      " 'George Washington University' 'Western Washington University'\n",
      " 'California State University' 'Lewis and Clark College'\n",
      " 'Hunter College of CUNY' 'Juniata College'\n",
      " 'University of Central Arkansas' 'Pepperdine University'\n",
      " 'UNIVERSITY OF IOWA, THE' 'Mills College' 'College of the Holy Cross'\n",
      " 'University of Miami' 'Pontifical Catholic University of Puerto Rico'\n",
      " 'University of Alabama in Huntsville' 'Florida Southern College'\n",
      " 'Clarion University of Pennsylvania'\n",
      " 'North Carolina Agricultural & Technical State University'\n",
      " 'Bowling Green State University' 'University of Washington'\n",
      " 'Virginia Polytechnic Institute and State University'\n",
      " 'University of Cincinnati Main Campus' 'Humboldt State University'\n",
      " 'Kalamazoo College' 'United States Military Academy' 'Colgate University'\n",
      " 'UNIVERSITY OF WISCONSIN MILWAUKEE' 'University of California-Irvine'\n",
      " 'Claremont McKenna College' 'St. Norbert College' 'Union College'\n",
      " 'Universidad Metropolitana'\n",
      " 'California State Polytechnic University-Pomona'\n",
      " \"Saint John's University\" 'James Madison University'\n",
      " 'UNIVERSITY OF MIAMI' 'SUNY College at Geneseo' 'LeTourneau University'\n",
      " 'Fort Lewis College' 'Grove City College' 'Auburn University'\n",
      " 'Seton Hill University' 'Augustana College' 'Muhlenberg College'\n",
      " 'Lehman College-City University of New York' 'Carthage College'\n",
      " 'College of Charleston' 'American University' 'Swarthmore College'\n",
      " 'UNIVERSITY OF NOTRE DAME DU LAC'\n",
      " 'California State University, Chico Research Fdtn'\n",
      " 'Universidad Autonoma de Baja California Sur' 'University of New Haven'\n",
      " 'The Ohio State University' 'Brigham Young University Hawaii Campus'\n",
      " 'Eastern Illinois University' 'Hendrix College' 'New York University'\n",
      " 'Stonehill College' \"St Mary's University San Antonio\"\n",
      " 'Case Western Reserve University' 'College of Wooster' 'Bethel College'\n",
      " 'Miami University Oxford Campus' 'University of Massachusetts Dartmouth'\n",
      " 'University of Northwestern - St. Paul' 'DePaul University'\n",
      " 'University of Mississippi' 'Oklahoma State University'\n",
      " 'University of Houston' 'John Carroll University'\n",
      " 'University of Tennessee Chattanooga' 'Freed-Hardeman University'\n",
      " 'UNIVERSITY OF ALASKA ANCHORAGE' 'Simmons University'\n",
      " 'Cal Poly Pomona Foundation, Inc.' 'Denison University'\n",
      " 'Elizabethtown College' 'University of Missouri-Saint Louis'\n",
      " 'University of Wisconsin-Stevens Point' 'Pacific Lutheran University'\n",
      " 'Colorado Seminary dba University of Denver' 'Endicott College'\n",
      " 'Morehead State University' 'Mississippi University For Women'\n",
      " 'Wofford College' 'Bucknell University' 'Duquesne University'\n",
      " 'Rowan University' 'High Point University' 'Kansas State University'\n",
      " 'University of Redlands' 'Wake Forest University'\n",
      " 'Northwest Indian College' 'Connecticut College' 'Fordham University'\n",
      " 'Southern Connecticut State University'\n",
      " 'UNIVERSITY OF COLORADO  DENVER CTR' 'Prairie View A & M University'\n",
      " 'Mutah University' 'Adrian College' 'AMERICAN UNIVERSITY'\n",
      " 'Hampton University' 'Kent State University'\n",
      " 'Black Hills State University'\n",
      " 'University of Colorado at Denver-Downtown Campus' 'Kutztown University'\n",
      " 'Saint Vincent College' 'Embry-Riddle Aeronautical University'\n",
      " 'Emory and Henry College' 'Alabama A&M University'\n",
      " 'Indian Institute of Technology, Bombay' 'Simpson College'\n",
      " \"Mount St. Mary's University\" 'Robert Morris University'\n",
      " 'Florida Gulf Coast University' 'University of North Florida'\n",
      " 'Eastern Washington University' 'Western Michigan University'\n",
      " \"St. Mary's College of Maryland\" 'Baylor University'\n",
      " 'Saint Bonaventure University' 'University of South Dakota Main Campus'\n",
      " 'Bahiana School of Medicine and Public Health' 'Randolph-Macon College'\n",
      " 'Hope College' 'Franklin W. Olin College of Engineering'\n",
      " 'Texas Tech University' 'Northern Michigan University'\n",
      " 'Oklahoma Christian University' 'Spelman College'\n",
      " 'Albany State University' 'University of San Francisco'\n",
      " 'Northland College' 'UNIVERSITY OF ST ANDREWS'\n",
      " 'Gustavus Adolphus College'\n",
      " 'Johns Hopkins University Krieger School of Arts and Sciences'\n",
      " 'University of Minnesota Duluth' 'Saint Louis University'\n",
      " 'BRYN MAWR COLLEGE' 'Indiana University of Pennsylvania'\n",
      " 'Saginaw Valley State University' 'Delaware State University'\n",
      " 'Nevada System of Higher Education' 'Southern Utah University'\n",
      " 'Middle Tennessee State University' 'University of Portland'\n",
      " 'University of Colorado at Denver' 'Towson University'\n",
      " 'Quest University Canada' 'Indian Institute of Technology - Kanpur'\n",
      " 'Loyola University of Chicago' 'Drexel University' 'Cambridge University'\n",
      " 'Tarleton State University' 'Coastal Carolina University'\n",
      " 'Inter American University of Puerto Rico Metropolitan Campus'\n",
      " 'University of North Carolina Wilmington'\n",
      " 'Washington University in St. Louis' 'Azusa Pacific University'\n",
      " 'University of Detroit Mercy' 'Southeastern Oklahoma State University'\n",
      " 'University of South Alabama'\n",
      " 'Board of Regents, NSHE, obo University of Nevada, Reno'\n",
      " 'Virginia Commonwealth University' 'SUNY College at Potsdam'\n",
      " 'University of South Carolina Aiken' 'South Carolina State University'\n",
      " 'Providence College' 'Syracuse University' 'Drury University'\n",
      " 'University of Mount Union' 'Abilene Christian University'\n",
      " 'Butler University' 'University of North Carolina Asheville'\n",
      " 'EASTERN MICHIGAN UNIVERSITY' 'University of The Virgin Islands'\n",
      " 'University of Wisconsin-Stout'\n",
      " 'Pennsylvania State University - World Campus'\n",
      " 'University of Puerto Rico Cayey' 'University of Puerto Rico-Aguadilla'\n",
      " 'Ripon College' 'Metropolitan State University of Denver'\n",
      " 'Wittenberg University' 'University of Colorado at Colorado Springs'\n",
      " 'Willamette University' 'Gonzaga University'\n",
      " 'University of Texas of the Permian Basin' 'University of West Florida'\n",
      " 'University of Saint Thomas' 'Wichita State University'\n",
      " 'Agnes Scott College' 'Regis University' 'Ohio Northern University'\n",
      " 'Lamar University Beaumont' 'University of North Texas'\n",
      " 'University of Northern Iowa' 'Trinity College Dublin' 'Whittier College'\n",
      " 'Catholic University of America' 'New Jersey Institute of Technology'\n",
      " 'Idaho State University' 'University of Alaska Anchorage Campus'\n",
      " 'California State Uiversity, Sacramento' 'University of Scranton'\n",
      " 'Universidad del Valle' 'College of the Atlantic'\n",
      " 'San Francisco State University' 'Carnegie Mellon University'\n",
      " 'Sarah Lawrence College' 'Imperial College'\n",
      " 'Birla Institute of Technology and Science Pilani' 'Cameron University'\n",
      " 'University of St. Thomas' 'Truman State University'\n",
      " 'Lawrence Technological University' 'North Central College'\n",
      " 'Stockton University' 'Drake University' 'SUNY at Binghamton'\n",
      " 'California State University, San Marcos' 'Emmanuel College'\n",
      " 'East Carolina University' 'Oakland University'\n",
      " 'University of Queensland' 'University of Northern Colorado'\n",
      " 'Rhode Island College' 'Tuskegee University'\n",
      " 'University of Massachusetts, Dartmouth'\n",
      " 'CUNY New York City College of Technology'\n",
      " 'Indian Institute of Technology Madras' 'Long Island University'\n",
      " 'Harding University' 'University of Denver'\n",
      " 'University of Puerto Rico at Bayamon' 'Berry College'\n",
      " 'California State University, East Bay'\n",
      " 'University of Wisconsin-Parkside' 'Liberty University, Inc.'\n",
      " 'Texas A&M University at Galveston' 'VIRGINIA POLYTECH INST AND STATE UN'\n",
      " 'Lebanon Valley College' 'Coe College' 'Wilkes University'\n",
      " 'University of the Sciences in Philadelphia' 'Elon University'\n",
      " 'University of Oxford' 'University of Toledo' 'UNIVERSIDADE DE SAO PAULO'\n",
      " 'University of Nebraska' 'CALIFORNIA STATE UNIVERSITY, FRESNO'\n",
      " 'Texas Christian University' 'California State University, Los Angeles'\n",
      " 'SUNY at Albany' 'Indiana Wesleyan University' 'Ball State University'\n",
      " 'Biola University' 'Weber State University' 'Brandeis University'\n",
      " 'University of Maine' 'Trevecca Nazarene University' 'Lincoln University'\n",
      " 'CALIFORNIA POLYTECHNIC STATE UNIVERSITY'\n",
      " 'Mansfield University of Pennsylvania' 'Loras College'\n",
      " 'University of Alberta' 'Ohio Wesleyan University'\n",
      " 'Chaminade University of Honolulu' 'Barry University'\n",
      " \"Saint Mary's College of California\" 'University College London'\n",
      " 'Chabot College' 'Ben Gurion University Of The Negev'\n",
      " 'The University of New Orleans' 'United States Air Force Academy'\n",
      " 'University of Toronto' 'Geogia Institute of Technology'\n",
      " 'Arkansas State University Main Campus' 'Lake Forest College'\n",
      " 'National Taiwan University' 'Marist College' 'Louisiana Tech University'\n",
      " 'Youngstown State University' 'University of Nebraska at Kearney'\n",
      " 'Bemidji State University' 'Jackson State University'\n",
      " 'University of Chile' 'California State University-Bakersfield'\n",
      " 'CUNY Macaulay Honors College' 'Dordt College'\n",
      " 'University of Sacred Heart' 'Adelphi University'\n",
      " 'Milwaukee School of Engineering'\n",
      " 'California State University, Dominguez Hills' 'Sterling College, VT'\n",
      " 'Bridgewater College' 'Washington and Lee University'\n",
      " 'Christopher Newport University' 'Texas A&M University-Kingsville'\n",
      " 'California State University at Monterey Bay' 'SUNY College at New Paltz'\n",
      " 'Western Kentucky University' 'University of North Carolina Greensboro'\n",
      " 'Walla Walla University' 'Mary Baldwin University'\n",
      " 'California State University Fullerton'\n",
      " 'Bezalel Academy of Art and Design'\n",
      " 'University of Maryland University College' 'Saint Ambrose University'\n",
      " 'University of Michigan Flint' 'Gallaudet University'\n",
      " 'Kennesaw State University' 'Old Dominion University'\n",
      " 'University of Hawaii at Manoa' 'Presbyterian College'\n",
      " 'City University of New York' 'Seoul National University'\n",
      " 'Eastern Kentucky University' 'Siena College'\n",
      " 'University of Applied Sciences Utrecht (HU)' 'Only Undergrad'\n",
      " 'University of Massachusetts Medical School'\n",
      " 'UNIVERSITY OF CALIFORNIA, SAN FRANCISCO'\n",
      " 'CUNY Graduate School University Center'\n",
      " 'University of Wisconsin-Milwaukee'\n",
      " 'Sloan Kettering Institute For Cancer Research'\n",
      " 'Oregon Health & Science University' 'Duke University Marine Laboratory'\n",
      " 'University of Connecticut Health Center' 'Rockefeller University'\n",
      " 'The Scripps Research Institute - Florida'\n",
      " 'Dartmouth College Thayer School of Engineering'\n",
      " 'Harvard University Medical School' 'The Scripps Research Institute'\n",
      " 'University of California-San Francisco'\n",
      " 'Carnegie-Mellon Institute of Technology' 'Northern Illinois University'\n",
      " 'Universitetet i Tromsø, Norges arktiske universitet'\n",
      " 'Southern Methodist University' 'MD Anderson Cancer Center'\n",
      " 'Case Western Reserve University School of Medicine'\n",
      " 'Wake Forest University School of Medicine'\n",
      " 'Cold Spring Harbor Laboratory'\n",
      " 'College of William & Mary Virginia Institute of Marine Science'\n",
      " 'Washington State University Vancouver'\n",
      " 'University of Miami Rosenstiel School of Marine&Atmospheric Sci'\n",
      " 'Front Range Community College' 'University of Nevada Reno'\n",
      " 'University of Nevada - Reno' 'Stanford University School of Medicine'\n",
      " 'Joan and Sanford I. Weill Medical College of Cornell University'\n",
      " 'Icahn School of Medicine at Mount Sinai'\n",
      " 'New York University Medical Center'\n",
      " 'Woods Hole Oceanographic Institution' 'Higher School of Economics'\n",
      " 'University of Cambridge' 'The University of Texas at San Antonio'\n",
      " 'Harvard Div of Cont Ed Professional Develop. Programs'\n",
      " 'University of California - Los Angeles'\n",
      " 'University of California-San Diego Scripps Inst of Oceanography'\n",
      " 'Mayo Clinic Rochester' 'University of Troms°'\n",
      " 'Harvard University (Medical School)'\n",
      " 'California State University, Monterey Bay' 'Fisk University'\n",
      " 'University of Texas Southwestern Medical Center'\n",
      " 'University of Colorado - Anschutz Medical Campus'\n",
      " 'University of California, Davis' 'SUNY at Stony Brook'\n",
      " 'Vanderbilt University Medical Center' 'Oxford University'\n",
      " 'UNIVERSITY OF WISCONSIN SYSTEM'\n",
      " 'University of Oklahoma Health Sciences Center'\n",
      " 'Community College of Denver' 'University of California, San Francisco'\n",
      " 'University of California, San Diego' 'South Dakota State University'\n",
      " 'Richard Gilder Graduate School' 'University of New Orleans'\n",
      " 'Long Beach City College' 'Baylor College of Medicine'\n",
      " 'University of Nebraska Medical Center' 'Weill Cornell Medicine']\n"
     ]
    },
    {
     "name": "stderr",
     "output_type": "stream",
     "text": [
      "C:\\Users\\andyp\\Anaconda3\\lib\\site-packages\\ipykernel_launcher.py:1: DeprecationWarning: Non length-one string passed in for the array ordering. Please pass in 'C', 'F', 'A', or 'K' instead\n",
      "  \"\"\"Entry point for launching an IPython kernel.\n"
     ]
    }
   ],
   "source": [
    "BCI = pd.unique(df[['Baccalaureate Institution', 'Current Institution']].values.ravel())\n",
    "print(BCI)\n",
    "#len(BCI)"
   ]
  },
  {
   "cell_type": "code",
   "execution_count": 76,
   "metadata": {},
   "outputs": [
    {
     "name": "stdout",
     "output_type": "stream",
     "text": [
      "Object `ravel()` not found.\n"
     ]
    }
   ],
   "source": [
    "?ravel()"
   ]
  },
  {
   "cell_type": "code",
   "execution_count": 70,
   "metadata": {},
   "outputs": [
    {
     "data": {
      "text/plain": [
       "425"
      ]
     },
     "execution_count": 70,
     "metadata": {},
     "output_type": "execute_result"
    }
   ],
   "source": [
    "CI = np.unique(df['Current Institution'])\n",
    "#print(CI)\n",
    "len(CI)"
   ]
  },
  {
   "cell_type": "code",
   "execution_count": 68,
   "metadata": {},
   "outputs": [
    {
     "data": {
      "text/plain": [
       "425"
      ]
     },
     "execution_count": 68,
     "metadata": {},
     "output_type": "execute_result"
    }
   ],
   "source": [
    "column_values = df[[\"Current Institution\"]].values.ravel()\n",
    "unique_values = pd.unique(column_values)\n",
    "#print(unique_values)\n",
    "len(unique_values)"
   ]
  },
  {
   "cell_type": "code",
   "execution_count": 10,
   "metadata": {},
   "outputs": [],
   "source": [
    "top_20_schools_BI = ['CORNELL UNIVERSITY','California Institute of Technology', 'Columbia University',\n",
    "                     'Cornell University', 'HARVARD COLLEGE, PRESIDENT & FELLOWS OF', 'Harvard University',\n",
    "                     'JOHNS HOPKINS UNIVERSITY', 'Johns Hopkins University',\n",
    "                     'Johns Hopkins University Krieger School of Arts and Sciences',\n",
    "                     'Massachusetts Institute of Technology', 'Northwestern University',\n",
    "                     'Pennsylvania State Univ University Park' 'Pennsylvania State University',\n",
    "                     'Pennsylvania State University - World Campus',\n",
    "                     'Pennsylvania State University at Erie-Behrend College','Princeton University',\n",
    "                     'Stanford University', 'UNIVERSITY OF CALIFORNIA, BERKELEY',\n",
    "                     'UNIVERSITY OF CALIFORNIA SAN DIEGO', 'UNIVERSITY OF WASHINGTON',\n",
    "                     'UNIVERSITY OF ILLINOIS', 'University of California, Los Angeles',\n",
    "                     'University of California-Berkeley', 'University of California-Los Angeles',\n",
    "                     'University of California-San Diego', 'University of Chicago',\n",
    "                     'University of Illinois at Chicago', 'University of Illinois at Urbana-Champaign',\n",
    "                     'University of Michigan Ann Arbor', 'University of Michigan Flint',\n",
    "                     'University of Pennsylvania', 'University of Washington', 'University of Wisconsin-Madison',\n",
    "                     'University of Wisconsin-Parkside', 'University of Wisconsin-River Falls',\n",
    "                     'University of Wisconsin-Stevens Point', 'University of Wisconsin-Stout', 'Yale University']\n",
    "\n",
    "top_20_schools_CI = ['Cornell University', 'Pennsylvania State Univ University Park', 'JOHNS HOPKINS UNIVERSITY',\n",
    "                     'Massachusetts Institute of Technology', 'Stanford University', 'University of Michigan Ann Arbor',\n",
    "                     'UNIVERSITY OF CALIFORNIA SAN DIEGO', 'University of Pennsylvania', 'Columbia University',\n",
    "                     'CORNELL UNIVERSITY', 'University of Illinois at Urbana-Champaign', 'California State University Los Angeles',\n",
    "                     'University of Wisconsin-Madison', 'University of Chicago', 'California Institute of Technology',\n",
    "                     'UNIVERSITY OF CALIFORNIA, BERKELEY', 'University of California-Los Angeles', 'University of California-San Diego',\n",
    "                     'Princeton University', 'Harvard University', 'University of California-Berkeley', 'Northwestern University',\n",
    "                     'Yale University', 'Washington University', 'UNIVERSITY OF WASHINGTON', 'University of Washington',\n",
    "                     'University of Illinois at Chicago', 'University of Wisconsin-Milwaukee',\n",
    "                     'Johns Hopkins University Krieger School of Arts and Sciences', 'University of California, Los Angeles',\n",
    "                     'Harvard University Medical School', 'Johns Hopkins University', 'HARVARD COLLEGE, PRESIDENT & FELLOWS OF',\n",
    "                     'Pennsylvania State University at Erie-Behrend College', 'Pennsylvania State University - World Campus',\n",
    "                     'Stanford University School of Medicine', 'Pennsylvania State University',\n",
    "                     'Joan and Sanford I. Weill Medical College of Cornell University',\n",
    "                     'Harvard Div of Cont Ed Professional Develop. Programs', 'University of California - Los Angeles',\n",
    "                     'Harvard University (Medical School)', 'UNIVERSITY OF WISCONSIN SYSTEM', 'UNIVERSITY OF WISCONSIN MILWAUKEE',\n",
    "                     'University of California, San Diego']"
   ]
  },
  {
   "cell_type": "code",
   "execution_count": 11,
   "metadata": {},
   "outputs": [
    {
     "data": {
      "text/html": [
       "<div>\n",
       "<style scoped>\n",
       "    .dataframe tbody tr th:only-of-type {\n",
       "        vertical-align: middle;\n",
       "    }\n",
       "\n",
       "    .dataframe tbody tr th {\n",
       "        vertical-align: top;\n",
       "    }\n",
       "\n",
       "    .dataframe thead th {\n",
       "        text-align: right;\n",
       "    }\n",
       "</style>\n",
       "<table border=\"1\" class=\"dataframe\">\n",
       "  <thead>\n",
       "    <tr style=\"text-align: right;\">\n",
       "      <th></th>\n",
       "      <th>Name</th>\n",
       "      <th>Baccalaureate Institution</th>\n",
       "      <th>Field of Study</th>\n",
       "      <th>Current Institution</th>\n",
       "      <th>Award Status</th>\n",
       "      <th>BI School Type</th>\n",
       "      <th>CI School Type</th>\n",
       "    </tr>\n",
       "  </thead>\n",
       "  <tbody>\n",
       "    <tr>\n",
       "      <td>0</td>\n",
       "      <td>Abbott, Kathleen Emma</td>\n",
       "      <td>UNIVERSITY OF CALIFORNIA, BERKELEY</td>\n",
       "      <td>Geosciences - Physical Oceanography</td>\n",
       "      <td>NaN</td>\n",
       "      <td>Awarded</td>\n",
       "      <td>Top 20 School</td>\n",
       "      <td>Other</td>\n",
       "    </tr>\n",
       "    <tr>\n",
       "      <td>0</td>\n",
       "      <td>Abe, Mahiro</td>\n",
       "      <td>Cornell University</td>\n",
       "      <td>Physics and Astronomy - Astronomy and Astrophy...</td>\n",
       "      <td>Cornell University</td>\n",
       "      <td>Honorable Mention</td>\n",
       "      <td>Top 20 School</td>\n",
       "      <td>Top 20 School</td>\n",
       "    </tr>\n",
       "    <tr>\n",
       "      <td>1</td>\n",
       "      <td>Abele, Taylor Jane</td>\n",
       "      <td>University of North Carolina at Chapel Hill</td>\n",
       "      <td>Life Sciences - Cell Biology</td>\n",
       "      <td>University of North Carolina at Chapel Hill</td>\n",
       "      <td>Awarded</td>\n",
       "      <td>Other</td>\n",
       "      <td>Other</td>\n",
       "    </tr>\n",
       "    <tr>\n",
       "      <td>1</td>\n",
       "      <td>Abellera, Cierra Maya</td>\n",
       "      <td>Boise State University</td>\n",
       "      <td>Psychology - Social Psychology</td>\n",
       "      <td>UNIVERSITY OF MASSACHUSETTS AMHERST</td>\n",
       "      <td>Honorable Mention</td>\n",
       "      <td>Other</td>\n",
       "      <td>Other</td>\n",
       "    </tr>\n",
       "    <tr>\n",
       "      <td>2</td>\n",
       "      <td>Abraham, Evelyn Jane</td>\n",
       "      <td>Winthrop University</td>\n",
       "      <td>Life Sciences - other (specify) - Plant Biology</td>\n",
       "      <td>Pennsylvania State Univ University Park</td>\n",
       "      <td>Honorable Mention</td>\n",
       "      <td>Other</td>\n",
       "      <td>Top 20 School</td>\n",
       "    </tr>\n",
       "  </tbody>\n",
       "</table>\n",
       "</div>"
      ],
      "text/plain": [
       "                    Name                    Baccalaureate Institution  \\\n",
       "0  Abbott, Kathleen Emma           UNIVERSITY OF CALIFORNIA, BERKELEY   \n",
       "0            Abe, Mahiro                           Cornell University   \n",
       "1     Abele, Taylor Jane  University of North Carolina at Chapel Hill   \n",
       "1  Abellera, Cierra Maya                       Boise State University   \n",
       "2   Abraham, Evelyn Jane                          Winthrop University   \n",
       "\n",
       "                                      Field of Study  \\\n",
       "0                Geosciences - Physical Oceanography   \n",
       "0  Physics and Astronomy - Astronomy and Astrophy...   \n",
       "1                       Life Sciences - Cell Biology   \n",
       "1                     Psychology - Social Psychology   \n",
       "2    Life Sciences - other (specify) - Plant Biology   \n",
       "\n",
       "                           Current Institution       Award Status  \\\n",
       "0                                          NaN            Awarded   \n",
       "0                           Cornell University  Honorable Mention   \n",
       "1  University of North Carolina at Chapel Hill            Awarded   \n",
       "1          UNIVERSITY OF MASSACHUSETTS AMHERST  Honorable Mention   \n",
       "2      Pennsylvania State Univ University Park  Honorable Mention   \n",
       "\n",
       "  BI School Type CI School Type  \n",
       "0  Top 20 School          Other  \n",
       "0  Top 20 School  Top 20 School  \n",
       "1          Other          Other  \n",
       "1          Other          Other  \n",
       "2          Other  Top 20 School  "
      ]
     },
     "execution_count": 11,
     "metadata": {},
     "output_type": "execute_result"
    }
   ],
   "source": [
    "df['BI School Type'] = np.where(df['Baccalaureate Institution'].isin(top_20_schools_BI), 'Top 20 School', 'Other')\n",
    "df['CI School Type'] = np.where(df['Current Institution'].isin(top_20_schools_CI), 'Top 20 School', 'Other')\n",
    "df.head()\n",
    "#### Figure out how to make NaN differnt than 'Other' non-top twenty school"
   ]
  },
  {
   "cell_type": "code",
   "execution_count": 12,
   "metadata": {},
   "outputs": [
    {
     "data": {
      "text/html": [
       "<div>\n",
       "<style scoped>\n",
       "    .dataframe tbody tr th:only-of-type {\n",
       "        vertical-align: middle;\n",
       "    }\n",
       "\n",
       "    .dataframe tbody tr th {\n",
       "        vertical-align: top;\n",
       "    }\n",
       "\n",
       "    .dataframe thead th {\n",
       "        text-align: right;\n",
       "    }\n",
       "</style>\n",
       "<table border=\"1\" class=\"dataframe\">\n",
       "  <thead>\n",
       "    <tr style=\"text-align: right;\">\n",
       "      <th></th>\n",
       "      <th>Name</th>\n",
       "      <th>Baccalaureate Institution</th>\n",
       "      <th>Field of Study</th>\n",
       "      <th>Current Institution</th>\n",
       "      <th>Award Status</th>\n",
       "      <th>BI School Type</th>\n",
       "      <th>CI School Type</th>\n",
       "    </tr>\n",
       "  </thead>\n",
       "  <tbody>\n",
       "    <tr>\n",
       "      <td>0</td>\n",
       "      <td>Abbott, Kathleen Emma</td>\n",
       "      <td>UNIVERSITY OF CALIFORNIA, BERKELEY</td>\n",
       "      <td>Geosciences - Physical Oceanography</td>\n",
       "      <td>Only Undergrad</td>\n",
       "      <td>Awarded</td>\n",
       "      <td>Top 20 School</td>\n",
       "      <td>Other</td>\n",
       "    </tr>\n",
       "    <tr>\n",
       "      <td>0</td>\n",
       "      <td>Abe, Mahiro</td>\n",
       "      <td>Cornell University</td>\n",
       "      <td>Physics and Astronomy - Astronomy and Astrophy...</td>\n",
       "      <td>Cornell University</td>\n",
       "      <td>Honorable Mention</td>\n",
       "      <td>Top 20 School</td>\n",
       "      <td>Top 20 School</td>\n",
       "    </tr>\n",
       "    <tr>\n",
       "      <td>1</td>\n",
       "      <td>Abele, Taylor Jane</td>\n",
       "      <td>University of North Carolina at Chapel Hill</td>\n",
       "      <td>Life Sciences - Cell Biology</td>\n",
       "      <td>University of North Carolina at Chapel Hill</td>\n",
       "      <td>Awarded</td>\n",
       "      <td>Other</td>\n",
       "      <td>Other</td>\n",
       "    </tr>\n",
       "    <tr>\n",
       "      <td>1</td>\n",
       "      <td>Abellera, Cierra Maya</td>\n",
       "      <td>Boise State University</td>\n",
       "      <td>Psychology - Social Psychology</td>\n",
       "      <td>UNIVERSITY OF MASSACHUSETTS AMHERST</td>\n",
       "      <td>Honorable Mention</td>\n",
       "      <td>Other</td>\n",
       "      <td>Other</td>\n",
       "    </tr>\n",
       "    <tr>\n",
       "      <td>2</td>\n",
       "      <td>Abraham, Evelyn Jane</td>\n",
       "      <td>Winthrop University</td>\n",
       "      <td>Life Sciences - other (specify) - Plant Biology</td>\n",
       "      <td>Pennsylvania State Univ University Park</td>\n",
       "      <td>Honorable Mention</td>\n",
       "      <td>Other</td>\n",
       "      <td>Top 20 School</td>\n",
       "    </tr>\n",
       "  </tbody>\n",
       "</table>\n",
       "</div>"
      ],
      "text/plain": [
       "                    Name                    Baccalaureate Institution  \\\n",
       "0  Abbott, Kathleen Emma           UNIVERSITY OF CALIFORNIA, BERKELEY   \n",
       "0            Abe, Mahiro                           Cornell University   \n",
       "1     Abele, Taylor Jane  University of North Carolina at Chapel Hill   \n",
       "1  Abellera, Cierra Maya                       Boise State University   \n",
       "2   Abraham, Evelyn Jane                          Winthrop University   \n",
       "\n",
       "                                      Field of Study  \\\n",
       "0                Geosciences - Physical Oceanography   \n",
       "0  Physics and Astronomy - Astronomy and Astrophy...   \n",
       "1                       Life Sciences - Cell Biology   \n",
       "1                     Psychology - Social Psychology   \n",
       "2    Life Sciences - other (specify) - Plant Biology   \n",
       "\n",
       "                           Current Institution       Award Status  \\\n",
       "0                               Only Undergrad            Awarded   \n",
       "0                           Cornell University  Honorable Mention   \n",
       "1  University of North Carolina at Chapel Hill            Awarded   \n",
       "1          UNIVERSITY OF MASSACHUSETTS AMHERST  Honorable Mention   \n",
       "2      Pennsylvania State Univ University Park  Honorable Mention   \n",
       "\n",
       "  BI School Type CI School Type  \n",
       "0  Top 20 School          Other  \n",
       "0  Top 20 School  Top 20 School  \n",
       "1          Other          Other  \n",
       "1          Other          Other  \n",
       "2          Other  Top 20 School  "
      ]
     },
     "execution_count": 12,
     "metadata": {},
     "output_type": "execute_result"
    }
   ],
   "source": [
    "df['Current Institution'].fillna(\"Only Undergrad\", inplace = True)\n",
    "df.head()"
   ]
  },
  {
   "cell_type": "code",
   "execution_count": 13,
   "metadata": {},
   "outputs": [
    {
     "data": {
      "text/plain": [
       "Name                           object\n",
       "Baccalaureate Institution    category\n",
       "Field of Study                 object\n",
       "Current Institution          category\n",
       "Award Status                   object\n",
       "BI School Type               category\n",
       "CI School Type               category\n",
       "dtype: object"
      ]
     },
     "execution_count": 13,
     "metadata": {},
     "output_type": "execute_result"
    }
   ],
   "source": [
    "df['Baccalaureate Institution'] = df['Baccalaureate Institution'].astype('category')\n",
    "df['Current Institution'] = df['Current Institution'].astype('category')\n",
    "df['Award Status'] = df['Award Status'].astype('object')\n",
    "df['BI School Type'] = df['BI School Type'].astype('category')\n",
    "df['CI School Type'] = df['CI School Type'].astype('category')\n",
    "df.dtypes"
   ]
  },
  {
   "cell_type": "code",
   "execution_count": 14,
   "metadata": {},
   "outputs": [],
   "source": [
    "#sns.countplot(df['Award Status'])"
   ]
  },
  {
   "cell_type": "code",
   "execution_count": 15,
   "metadata": {},
   "outputs": [],
   "source": [
    "#sns.catplot(x=\"BI School Type\", y =df['Baccalaureate Institution'].value_counts(), hue = 'Award Status', kind='bar', data=df)"
   ]
  },
  {
   "cell_type": "code",
   "execution_count": 16,
   "metadata": {},
   "outputs": [
    {
     "data": {
      "image/png": "[encoded data removed]",
      "text/plain": [
       "<Figure size 720x360 with 2 Axes>"
      ]
     },
     "metadata": {
      "needs_background": "light"
     },
     "output_type": "display_data"
    }
   ],
   "source": [
    "#sns.catplot(data=df, x='Award Status', kind='count', col='BI School Type', )\n",
    "#plt.show()"
   ]
  },
  {
   "cell_type": "code",
   "execution_count": 46,
   "metadata": {},
   "outputs": [
    {
     "data": {
      "text/html": [
       "<div>\n",
       "<style scoped>\n",
       "    .dataframe tbody tr th:only-of-type {\n",
       "        vertical-align: middle;\n",
       "    }\n",
       "\n",
       "    .dataframe tbody tr th {\n",
       "        vertical-align: top;\n",
       "    }\n",
       "\n",
       "    .dataframe thead th {\n",
       "        text-align: right;\n",
       "    }\n",
       "</style>\n",
       "<table border=\"1\" class=\"dataframe\">\n",
       "  <thead>\n",
       "    <tr style=\"text-align: right;\">\n",
       "      <th></th>\n",
       "      <th>Name</th>\n",
       "      <th>Baccalaureate Institution</th>\n",
       "      <th>Field of Study</th>\n",
       "      <th>Current Institution</th>\n",
       "      <th>Award Status</th>\n",
       "      <th>BI School Type</th>\n",
       "      <th>CI School Type</th>\n",
       "    </tr>\n",
       "  </thead>\n",
       "  <tbody>\n",
       "    <tr>\n",
       "      <td>count</td>\n",
       "      <td>3863</td>\n",
       "      <td>3863</td>\n",
       "      <td>3863</td>\n",
       "      <td>3863</td>\n",
       "      <td>3863</td>\n",
       "      <td>3863</td>\n",
       "      <td>3863</td>\n",
       "    </tr>\n",
       "    <tr>\n",
       "      <td>unique</td>\n",
       "      <td>3863</td>\n",
       "      <td>663</td>\n",
       "      <td>295</td>\n",
       "      <td>425</td>\n",
       "      <td>2</td>\n",
       "      <td>2</td>\n",
       "      <td>2</td>\n",
       "    </tr>\n",
       "    <tr>\n",
       "      <td>top</td>\n",
       "      <td>Walters-Marrah, George Anthony</td>\n",
       "      <td>UNIVERSITY OF CALIFORNIA, BERKELEY</td>\n",
       "      <td>Life Sciences - Ecology</td>\n",
       "      <td>Only Undergrad</td>\n",
       "      <td>Awarded</td>\n",
       "      <td>Other</td>\n",
       "      <td>Other</td>\n",
       "    </tr>\n",
       "    <tr>\n",
       "      <td>freq</td>\n",
       "      <td>1</td>\n",
       "      <td>120</td>\n",
       "      <td>233</td>\n",
       "      <td>430</td>\n",
       "      <td>2076</td>\n",
       "      <td>2911</td>\n",
       "      <td>2429</td>\n",
       "    </tr>\n",
       "  </tbody>\n",
       "</table>\n",
       "</div>"
      ],
      "text/plain": [
       "                                  Name           Baccalaureate Institution  \\\n",
       "count                             3863                                3863   \n",
       "unique                            3863                                 663   \n",
       "top     Walters-Marrah, George Anthony  UNIVERSITY OF CALIFORNIA, BERKELEY   \n",
       "freq                                 1                                 120   \n",
       "\n",
       "                 Field of Study Current Institution Award Status  \\\n",
       "count                      3863                3863         3863   \n",
       "unique                      295                 425            2   \n",
       "top     Life Sciences - Ecology      Only Undergrad      Awarded   \n",
       "freq                        233                 430         2076   \n",
       "\n",
       "       BI School Type CI School Type  \n",
       "count            3863           3863  \n",
       "unique              2              2  \n",
       "top             Other          Other  \n",
       "freq             2911           2429  "
      ]
     },
     "execution_count": 46,
     "metadata": {},
     "output_type": "execute_result"
    }
   ],
   "source": [
    "df.describe()"
   ]
  },
  {
   "cell_type": "code",
   "execution_count": 59,
   "metadata": {},
   "outputs": [
    {
     "ename": "AttributeError",
     "evalue": "'Rectangle' object has no property 'stacked'",
     "output_type": "error",
     "traceback": [
      "\u001b[1;31m---------------------------------------------------------------------------\u001b[0m",
      "\u001b[1;31mAttributeError\u001b[0m                            Traceback (most recent call last)",
      "\u001b[1;32m<ipython-input-59-4aca3379c89b>\u001b[0m in \u001b[0;36m<module>\u001b[1;34m\u001b[0m\n\u001b[0;32m     11\u001b[0m         \u001b[0mprint\u001b[0m\u001b[1;33m(\u001b[0m\u001b[0mseries\u001b[0m\u001b[1;33m.\u001b[0m\u001b[0mvalue_counts\u001b[0m\u001b[1;33m(\u001b[0m\u001b[1;33m)\u001b[0m\u001b[1;33m)\u001b[0m\u001b[1;33m\u001b[0m\u001b[1;33m\u001b[0m\u001b[0m\n\u001b[0;32m     12\u001b[0m \u001b[1;33m\u001b[0m\u001b[0m\n\u001b[1;32m---> 13\u001b[1;33m \u001b[0msns\u001b[0m\u001b[1;33m.\u001b[0m\u001b[0mcountplot\u001b[0m\u001b[1;33m(\u001b[0m\u001b[0mx\u001b[0m\u001b[1;33m=\u001b[0m\u001b[1;34m'BI School Type'\u001b[0m\u001b[1;33m,\u001b[0m \u001b[0mhue\u001b[0m \u001b[1;33m=\u001b[0m \u001b[1;34m'Award Status'\u001b[0m\u001b[1;33m,\u001b[0m \u001b[0mdata\u001b[0m\u001b[1;33m=\u001b[0m\u001b[0mdf\u001b[0m\u001b[1;33m,\u001b[0m \u001b[0mstacked\u001b[0m\u001b[1;33m=\u001b[0m\u001b[1;32mTrue\u001b[0m\u001b[1;33m)\u001b[0m\u001b[1;33m\u001b[0m\u001b[1;33m\u001b[0m\u001b[0m\n\u001b[0m\u001b[0;32m     14\u001b[0m \u001b[0mplt\u001b[0m\u001b[1;33m.\u001b[0m\u001b[0mshow\u001b[0m\u001b[1;33m(\u001b[0m\u001b[1;33m)\u001b[0m\u001b[1;33m\u001b[0m\u001b[1;33m\u001b[0m\u001b[0m\n",
      "\u001b[1;32m~\\Anaconda3\\lib\\site-packages\\seaborn\\categorical.py\u001b[0m in \u001b[0;36mcountplot\u001b[1;34m(x, y, hue, data, order, hue_order, orient, color, palette, saturation, dodge, ax, **kwargs)\u001b[0m\n\u001b[0;32m   3558\u001b[0m         \u001b[0max\u001b[0m \u001b[1;33m=\u001b[0m \u001b[0mplt\u001b[0m\u001b[1;33m.\u001b[0m\u001b[0mgca\u001b[0m\u001b[1;33m(\u001b[0m\u001b[1;33m)\u001b[0m\u001b[1;33m\u001b[0m\u001b[1;33m\u001b[0m\u001b[0m\n\u001b[0;32m   3559\u001b[0m \u001b[1;33m\u001b[0m\u001b[0m\n\u001b[1;32m-> 3560\u001b[1;33m     \u001b[0mplotter\u001b[0m\u001b[1;33m.\u001b[0m\u001b[0mplot\u001b[0m\u001b[1;33m(\u001b[0m\u001b[0max\u001b[0m\u001b[1;33m,\u001b[0m \u001b[0mkwargs\u001b[0m\u001b[1;33m)\u001b[0m\u001b[1;33m\u001b[0m\u001b[1;33m\u001b[0m\u001b[0m\n\u001b[0m\u001b[0;32m   3561\u001b[0m     \u001b[1;32mreturn\u001b[0m \u001b[0max\u001b[0m\u001b[1;33m\u001b[0m\u001b[1;33m\u001b[0m\u001b[0m\n\u001b[0;32m   3562\u001b[0m \u001b[1;33m\u001b[0m\u001b[0m\n",
      "\u001b[1;32m~\\Anaconda3\\lib\\site-packages\\seaborn\\categorical.py\u001b[0m in \u001b[0;36mplot\u001b[1;34m(self, ax, bar_kws)\u001b[0m\n\u001b[0;32m   1659\u001b[0m     \u001b[1;32mdef\u001b[0m \u001b[0mplot\u001b[0m\u001b[1;33m(\u001b[0m\u001b[0mself\u001b[0m\u001b[1;33m,\u001b[0m \u001b[0max\u001b[0m\u001b[1;33m,\u001b[0m \u001b[0mbar_kws\u001b[0m\u001b[1;33m)\u001b[0m\u001b[1;33m:\u001b[0m\u001b[1;33m\u001b[0m\u001b[1;33m\u001b[0m\u001b[0m\n\u001b[0;32m   1660\u001b[0m         \u001b[1;34m\"\"\"Make the plot.\"\"\"\u001b[0m\u001b[1;33m\u001b[0m\u001b[1;33m\u001b[0m\u001b[0m\n\u001b[1;32m-> 1661\u001b[1;33m         \u001b[0mself\u001b[0m\u001b[1;33m.\u001b[0m\u001b[0mdraw_bars\u001b[0m\u001b[1;33m(\u001b[0m\u001b[0max\u001b[0m\u001b[1;33m,\u001b[0m \u001b[0mbar_kws\u001b[0m\u001b[1;33m)\u001b[0m\u001b[1;33m\u001b[0m\u001b[1;33m\u001b[0m\u001b[0m\n\u001b[0m\u001b[0;32m   1662\u001b[0m         \u001b[0mself\u001b[0m\u001b[1;33m.\u001b[0m\u001b[0mannotate_axes\u001b[0m\u001b[1;33m(\u001b[0m\u001b[0max\u001b[0m\u001b[1;33m)\u001b[0m\u001b[1;33m\u001b[0m\u001b[1;33m\u001b[0m\u001b[0m\n\u001b[0;32m   1663\u001b[0m         \u001b[1;32mif\u001b[0m \u001b[0mself\u001b[0m\u001b[1;33m.\u001b[0m\u001b[0morient\u001b[0m \u001b[1;33m==\u001b[0m \u001b[1;34m\"h\"\u001b[0m\u001b[1;33m:\u001b[0m\u001b[1;33m\u001b[0m\u001b[1;33m\u001b[0m\u001b[0m\n",
      "\u001b[1;32m~\\Anaconda3\\lib\\site-packages\\seaborn\\categorical.py\u001b[0m in \u001b[0;36mdraw_bars\u001b[1;34m(self, ax, kws)\u001b[0m\n\u001b[0;32m   1644\u001b[0m                 barfunc(offpos, self.statistic[:, j], self.nested_width,\n\u001b[0;32m   1645\u001b[0m                         \u001b[0mcolor\u001b[0m\u001b[1;33m=\u001b[0m\u001b[0mself\u001b[0m\u001b[1;33m.\u001b[0m\u001b[0mcolors\u001b[0m\u001b[1;33m[\u001b[0m\u001b[0mj\u001b[0m\u001b[1;33m]\u001b[0m\u001b[1;33m,\u001b[0m \u001b[0malign\u001b[0m\u001b[1;33m=\u001b[0m\u001b[1;34m\"center\"\u001b[0m\u001b[1;33m,\u001b[0m\u001b[1;33m\u001b[0m\u001b[1;33m\u001b[0m\u001b[0m\n\u001b[1;32m-> 1646\u001b[1;33m                         label=hue_level, **kws)\n\u001b[0m\u001b[0;32m   1647\u001b[0m \u001b[1;33m\u001b[0m\u001b[0m\n\u001b[0;32m   1648\u001b[0m                 \u001b[1;31m# Draw the confidence intervals\u001b[0m\u001b[1;33m\u001b[0m\u001b[1;33m\u001b[0m\u001b[1;33m\u001b[0m\u001b[0m\n",
      "\u001b[1;32m~\\Anaconda3\\lib\\site-packages\\matplotlib\\__init__.py\u001b[0m in \u001b[0;36minner\u001b[1;34m(ax, data, *args, **kwargs)\u001b[0m\n\u001b[0;32m   1599\u001b[0m     \u001b[1;32mdef\u001b[0m \u001b[0minner\u001b[0m\u001b[1;33m(\u001b[0m\u001b[0max\u001b[0m\u001b[1;33m,\u001b[0m \u001b[1;33m*\u001b[0m\u001b[0margs\u001b[0m\u001b[1;33m,\u001b[0m \u001b[0mdata\u001b[0m\u001b[1;33m=\u001b[0m\u001b[1;32mNone\u001b[0m\u001b[1;33m,\u001b[0m \u001b[1;33m**\u001b[0m\u001b[0mkwargs\u001b[0m\u001b[1;33m)\u001b[0m\u001b[1;33m:\u001b[0m\u001b[1;33m\u001b[0m\u001b[1;33m\u001b[0m\u001b[0m\n\u001b[0;32m   1600\u001b[0m         \u001b[1;32mif\u001b[0m \u001b[0mdata\u001b[0m \u001b[1;32mis\u001b[0m \u001b[1;32mNone\u001b[0m\u001b[1;33m:\u001b[0m\u001b[1;33m\u001b[0m\u001b[1;33m\u001b[0m\u001b[0m\n\u001b[1;32m-> 1601\u001b[1;33m             \u001b[1;32mreturn\u001b[0m \u001b[0mfunc\u001b[0m\u001b[1;33m(\u001b[0m\u001b[0max\u001b[0m\u001b[1;33m,\u001b[0m \u001b[1;33m*\u001b[0m\u001b[0mmap\u001b[0m\u001b[1;33m(\u001b[0m\u001b[0msanitize_sequence\u001b[0m\u001b[1;33m,\u001b[0m \u001b[0margs\u001b[0m\u001b[1;33m)\u001b[0m\u001b[1;33m,\u001b[0m \u001b[1;33m**\u001b[0m\u001b[0mkwargs\u001b[0m\u001b[1;33m)\u001b[0m\u001b[1;33m\u001b[0m\u001b[1;33m\u001b[0m\u001b[0m\n\u001b[0m\u001b[0;32m   1602\u001b[0m \u001b[1;33m\u001b[0m\u001b[0m\n\u001b[0;32m   1603\u001b[0m         \u001b[0mbound\u001b[0m \u001b[1;33m=\u001b[0m \u001b[0mnew_sig\u001b[0m\u001b[1;33m.\u001b[0m\u001b[0mbind\u001b[0m\u001b[1;33m(\u001b[0m\u001b[0max\u001b[0m\u001b[1;33m,\u001b[0m \u001b[1;33m*\u001b[0m\u001b[0margs\u001b[0m\u001b[1;33m,\u001b[0m \u001b[1;33m**\u001b[0m\u001b[0mkwargs\u001b[0m\u001b[1;33m)\u001b[0m\u001b[1;33m\u001b[0m\u001b[1;33m\u001b[0m\u001b[0m\n",
      "\u001b[1;32m~\\Anaconda3\\lib\\site-packages\\matplotlib\\axes\\_axes.py\u001b[0m in \u001b[0;36mbar\u001b[1;34m(self, x, height, width, bottom, align, **kwargs)\u001b[0m\n\u001b[0;32m   2430\u001b[0m                 \u001b[0mlabel\u001b[0m\u001b[1;33m=\u001b[0m\u001b[1;34m'_nolegend_'\u001b[0m\u001b[1;33m,\u001b[0m\u001b[1;33m\u001b[0m\u001b[1;33m\u001b[0m\u001b[0m\n\u001b[0;32m   2431\u001b[0m                 )\n\u001b[1;32m-> 2432\u001b[1;33m             \u001b[0mr\u001b[0m\u001b[1;33m.\u001b[0m\u001b[0mupdate\u001b[0m\u001b[1;33m(\u001b[0m\u001b[0mkwargs\u001b[0m\u001b[1;33m)\u001b[0m\u001b[1;33m\u001b[0m\u001b[1;33m\u001b[0m\u001b[0m\n\u001b[0m\u001b[0;32m   2433\u001b[0m             \u001b[0mr\u001b[0m\u001b[1;33m.\u001b[0m\u001b[0mget_path\u001b[0m\u001b[1;33m(\u001b[0m\u001b[1;33m)\u001b[0m\u001b[1;33m.\u001b[0m\u001b[0m_interpolation_steps\u001b[0m \u001b[1;33m=\u001b[0m \u001b[1;36m100\u001b[0m\u001b[1;33m\u001b[0m\u001b[1;33m\u001b[0m\u001b[0m\n\u001b[0;32m   2434\u001b[0m             \u001b[1;32mif\u001b[0m \u001b[0morientation\u001b[0m \u001b[1;33m==\u001b[0m \u001b[1;34m'vertical'\u001b[0m\u001b[1;33m:\u001b[0m\u001b[1;33m\u001b[0m\u001b[1;33m\u001b[0m\u001b[0m\n",
      "\u001b[1;32m~\\Anaconda3\\lib\\site-packages\\matplotlib\\artist.py\u001b[0m in \u001b[0;36mupdate\u001b[1;34m(self, props)\u001b[0m\n\u001b[0;32m    972\u001b[0m \u001b[1;33m\u001b[0m\u001b[0m\n\u001b[0;32m    973\u001b[0m         \u001b[1;32mwith\u001b[0m \u001b[0mcbook\u001b[0m\u001b[1;33m.\u001b[0m\u001b[0m_setattr_cm\u001b[0m\u001b[1;33m(\u001b[0m\u001b[0mself\u001b[0m\u001b[1;33m,\u001b[0m \u001b[0meventson\u001b[0m\u001b[1;33m=\u001b[0m\u001b[1;32mFalse\u001b[0m\u001b[1;33m)\u001b[0m\u001b[1;33m:\u001b[0m\u001b[1;33m\u001b[0m\u001b[1;33m\u001b[0m\u001b[0m\n\u001b[1;32m--> 974\u001b[1;33m             \u001b[0mret\u001b[0m \u001b[1;33m=\u001b[0m \u001b[1;33m[\u001b[0m\u001b[0m_update_property\u001b[0m\u001b[1;33m(\u001b[0m\u001b[0mself\u001b[0m\u001b[1;33m,\u001b[0m \u001b[0mk\u001b[0m\u001b[1;33m,\u001b[0m \u001b[0mv\u001b[0m\u001b[1;33m)\u001b[0m \u001b[1;32mfor\u001b[0m \u001b[0mk\u001b[0m\u001b[1;33m,\u001b[0m \u001b[0mv\u001b[0m \u001b[1;32min\u001b[0m \u001b[0mprops\u001b[0m\u001b[1;33m.\u001b[0m\u001b[0mitems\u001b[0m\u001b[1;33m(\u001b[0m\u001b[1;33m)\u001b[0m\u001b[1;33m]\u001b[0m\u001b[1;33m\u001b[0m\u001b[1;33m\u001b[0m\u001b[0m\n\u001b[0m\u001b[0;32m    975\u001b[0m \u001b[1;33m\u001b[0m\u001b[0m\n\u001b[0;32m    976\u001b[0m         \u001b[1;32mif\u001b[0m \u001b[0mlen\u001b[0m\u001b[1;33m(\u001b[0m\u001b[0mret\u001b[0m\u001b[1;33m)\u001b[0m\u001b[1;33m:\u001b[0m\u001b[1;33m\u001b[0m\u001b[1;33m\u001b[0m\u001b[0m\n",
      "\u001b[1;32m~\\Anaconda3\\lib\\site-packages\\matplotlib\\artist.py\u001b[0m in \u001b[0;36m<listcomp>\u001b[1;34m(.0)\u001b[0m\n\u001b[0;32m    972\u001b[0m \u001b[1;33m\u001b[0m\u001b[0m\n\u001b[0;32m    973\u001b[0m         \u001b[1;32mwith\u001b[0m \u001b[0mcbook\u001b[0m\u001b[1;33m.\u001b[0m\u001b[0m_setattr_cm\u001b[0m\u001b[1;33m(\u001b[0m\u001b[0mself\u001b[0m\u001b[1;33m,\u001b[0m \u001b[0meventson\u001b[0m\u001b[1;33m=\u001b[0m\u001b[1;32mFalse\u001b[0m\u001b[1;33m)\u001b[0m\u001b[1;33m:\u001b[0m\u001b[1;33m\u001b[0m\u001b[1;33m\u001b[0m\u001b[0m\n\u001b[1;32m--> 974\u001b[1;33m             \u001b[0mret\u001b[0m \u001b[1;33m=\u001b[0m \u001b[1;33m[\u001b[0m\u001b[0m_update_property\u001b[0m\u001b[1;33m(\u001b[0m\u001b[0mself\u001b[0m\u001b[1;33m,\u001b[0m \u001b[0mk\u001b[0m\u001b[1;33m,\u001b[0m \u001b[0mv\u001b[0m\u001b[1;33m)\u001b[0m \u001b[1;32mfor\u001b[0m \u001b[0mk\u001b[0m\u001b[1;33m,\u001b[0m \u001b[0mv\u001b[0m \u001b[1;32min\u001b[0m \u001b[0mprops\u001b[0m\u001b[1;33m.\u001b[0m\u001b[0mitems\u001b[0m\u001b[1;33m(\u001b[0m\u001b[1;33m)\u001b[0m\u001b[1;33m]\u001b[0m\u001b[1;33m\u001b[0m\u001b[1;33m\u001b[0m\u001b[0m\n\u001b[0m\u001b[0;32m    975\u001b[0m \u001b[1;33m\u001b[0m\u001b[0m\n\u001b[0;32m    976\u001b[0m         \u001b[1;32mif\u001b[0m \u001b[0mlen\u001b[0m\u001b[1;33m(\u001b[0m\u001b[0mret\u001b[0m\u001b[1;33m)\u001b[0m\u001b[1;33m:\u001b[0m\u001b[1;33m\u001b[0m\u001b[1;33m\u001b[0m\u001b[0m\n",
      "\u001b[1;32m~\\Anaconda3\\lib\\site-packages\\matplotlib\\artist.py\u001b[0m in \u001b[0;36m_update_property\u001b[1;34m(self, k, v)\u001b[0m\n\u001b[0;32m    968\u001b[0m                 \u001b[1;32mif\u001b[0m \u001b[1;32mnot\u001b[0m \u001b[0mcallable\u001b[0m\u001b[1;33m(\u001b[0m\u001b[0mfunc\u001b[0m\u001b[1;33m)\u001b[0m\u001b[1;33m:\u001b[0m\u001b[1;33m\u001b[0m\u001b[1;33m\u001b[0m\u001b[0m\n\u001b[0;32m    969\u001b[0m                     raise AttributeError('{!r} object has no property {!r}'\n\u001b[1;32m--> 970\u001b[1;33m                                          .format(type(self).__name__, k))\n\u001b[0m\u001b[0;32m    971\u001b[0m                 \u001b[1;32mreturn\u001b[0m \u001b[0mfunc\u001b[0m\u001b[1;33m(\u001b[0m\u001b[0mv\u001b[0m\u001b[1;33m)\u001b[0m\u001b[1;33m\u001b[0m\u001b[1;33m\u001b[0m\u001b[0m\n\u001b[0;32m    972\u001b[0m \u001b[1;33m\u001b[0m\u001b[0m\n",
      "\u001b[1;31mAttributeError\u001b[0m: 'Rectangle' object has no property 'stacked'"
     ]
    },
    {
     "data": {
      "image/png": "[encoded data removed]",
      "text/plain": [
       "<Figure size 432x288 with 1 Axes>"
      ]
     },
     "metadata": {
      "needs_background": "light"
     },
     "output_type": "display_data"
    }
   ],
   "source": [
    "def categorical_summarized(df, x='BI School Type', hue='Award Status', verbose=True):\n",
    "    #if x == None:\n",
    "        #column_interested = y\n",
    "    #else: \n",
    "        #column_interested = x\n",
    "    series = df['BI School Type']\n",
    "    print(series.describe())\n",
    "    print('mode: ', series.mode())\n",
    "    if verbose:\n",
    "        print('='*80)\n",
    "        print(series.value_counts())\n",
    "    \n",
    "sns.countplot(x='BI School Type', hue = 'Award Status', data=df, stacked=True)\n",
    "plt.show()"
   ]
  },
  {
   "cell_type": "code",
   "execution_count": 20,
   "metadata": {},
   "outputs": [
    {
     "data": {
      "image/png": "[encoded data removed]",
      "text/plain": [
       "<Figure size 720x360 with 2 Axes>"
      ]
     },
     "metadata": {
      "needs_background": "light"
     },
     "output_type": "display_data"
    }
   ],
   "source": [
    "#sns.catplot(data=df, x='BI School Type', kind='count', col='Award Status', hue ='Award Status' )\n",
    "#plt.show()"
   ]
  },
  {
   "cell_type": "code",
   "execution_count": 45,
   "metadata": {},
   "outputs": [
    {
     "data": {
      "text/plain": [
       "array([<matplotlib.axes._subplots.AxesSubplot object at 0x0000025D3C7E1248>,\n",
       "       <matplotlib.axes._subplots.AxesSubplot object at 0x0000025D3C808108>],\n",
       "      dtype=object)"
      ]
     },
     "execution_count": 45,
     "metadata": {},
     "output_type": "execute_result"
    },
    {
     "data": {
      "image/png": "[encoded data removed]",
      "text/plain": [
       "<Figure size 432x288 with 2 Axes>"
      ]
     },
     "metadata": {},
     "output_type": "display_data"
    }
   ],
   "source": [
    "#df.groupby(['BI School Type', 'Award Status'])['Award Status'].count().unstack(1).plot.bar(stacked=True)\n",
    "#df.groupby(['Award Status', 'BI School Type'])['BI School Type'].count().unstack(1).plot.pie(subplots=True)"
   ]
  },
  {
   "cell_type": "code",
   "execution_count": 29,
   "metadata": {},
   "outputs": [
    {
     "data": {
      "image/png": "[encoded data removed]",
      "text/plain": [
       "<Figure size 850.75x360 with 2 Axes>"
      ]
     },
     "metadata": {
      "needs_background": "light"
     },
     "output_type": "display_data"
    }
   ],
   "source": [
    "sns.catplot(data=df, x='BI School Type', kind='count', col='CI scho', hue ='Award Status' )\n",
    "plt.show()"
   ]
  },
  {
   "cell_type": "code",
   "execution_count": 389,
   "metadata": {},
   "outputs": [
    {
     "data": {
      "text/plain": [
       "\u001b[1;31mSignature:\u001b[0m\n",
       "\u001b[0mmosaic\u001b[0m\u001b[1;33m(\u001b[0m\u001b[1;33m\n",
       "\u001b[0m    \u001b[0mdata\u001b[0m\u001b[1;33m,\u001b[0m\u001b[1;33m\n",
       "\u001b[0m    \u001b[0mindex\u001b[0m\u001b[1;33m=\u001b[0m\u001b[1;32mNone\u001b[0m\u001b[1;33m,\u001b[0m\u001b[1;33m\n",
       "\u001b[0m    \u001b[0max\u001b[0m\u001b[1;33m=\u001b[0m\u001b[1;32mNone\u001b[0m\u001b[1;33m,\u001b[0m\u001b[1;33m\n",
       "\u001b[0m    \u001b[0mhorizontal\u001b[0m\u001b[1;33m=\u001b[0m\u001b[1;32mTrue\u001b[0m\u001b[1;33m,\u001b[0m\u001b[1;33m\n",
       "\u001b[0m    \u001b[0mgap\u001b[0m\u001b[1;33m=\u001b[0m\u001b[1;36m0.005\u001b[0m\u001b[1;33m,\u001b[0m\u001b[1;33m\n",
       "\u001b[0m    \u001b[0mproperties\u001b[0m\u001b[1;33m=\u001b[0m\u001b[1;33m<\u001b[0m\u001b[0mfunction\u001b[0m \u001b[1;33m<\u001b[0m\u001b[1;32mlambda\u001b[0m\u001b[1;33m>\u001b[0m \u001b[0mat\u001b[0m \u001b[1;36m0x0000025012947288\u001b[0m\u001b[1;33m>\u001b[0m\u001b[1;33m,\u001b[0m\u001b[1;33m\n",
       "\u001b[0m    \u001b[0mlabelizer\u001b[0m\u001b[1;33m=\u001b[0m\u001b[1;32mNone\u001b[0m\u001b[1;33m,\u001b[0m\u001b[1;33m\n",
       "\u001b[0m    \u001b[0mtitle\u001b[0m\u001b[1;33m=\u001b[0m\u001b[1;34m''\u001b[0m\u001b[1;33m,\u001b[0m\u001b[1;33m\n",
       "\u001b[0m    \u001b[0mstatistic\u001b[0m\u001b[1;33m=\u001b[0m\u001b[1;32mFalse\u001b[0m\u001b[1;33m,\u001b[0m\u001b[1;33m\n",
       "\u001b[0m    \u001b[0maxes_label\u001b[0m\u001b[1;33m=\u001b[0m\u001b[1;32mTrue\u001b[0m\u001b[1;33m,\u001b[0m\u001b[1;33m\n",
       "\u001b[0m    \u001b[0mlabel_rotation\u001b[0m\u001b[1;33m=\u001b[0m\u001b[1;36m0.0\u001b[0m\u001b[1;33m,\u001b[0m\u001b[1;33m\n",
       "\u001b[0m\u001b[1;33m)\u001b[0m\u001b[1;33m\u001b[0m\u001b[1;33m\u001b[0m\u001b[0m\n",
       "\u001b[1;31mDocstring:\u001b[0m\n",
       "Create a mosaic plot from a contingency table.\n",
       "\n",
       "It allows to visualize multivariate categorical data in a rigorous\n",
       "and informative way.\n",
       "\n",
       "Parameters\n",
       "----------\n",
       "data : dict, pandas.Series, np.ndarray, pandas.DataFrame\n",
       "    The contingency table that contains the data.\n",
       "    Each category should contain a non-negative number\n",
       "    with a tuple as index.  It expects that all the combination\n",
       "    of keys to be representes; if that is not true, will\n",
       "    automatically consider the missing values as 0.  The order\n",
       "    of the keys will be the same as the one of insertion.\n",
       "    If a dict of a Series (or any other dict like object)\n",
       "    is used, it will take the keys as labels.  If a\n",
       "    np.ndarray is provided, it will generate a simple\n",
       "    numerical labels.\n",
       "index: list, optional\n",
       "    Gives the preferred order for the category ordering. If not specified\n",
       "    will default to the given order.  It doesn't support named indexes\n",
       "    for hierarchical Series.  If a DataFrame is provided, it expects\n",
       "    a list with the name of the columns.\n",
       "ax : matplotlib.Axes, optional\n",
       "    The graph where display the mosaic. If not given, will\n",
       "    create a new figure\n",
       "horizontal : bool, optional (default True)\n",
       "    The starting direction of the split (by default along\n",
       "    the horizontal axis)\n",
       "gap : float or array of floats\n",
       "    The list of gaps to be applied on each subdivision.\n",
       "    If the lenght of the given array is less of the number\n",
       "    of subcategories (or if it's a single number) it will extend\n",
       "    it with exponentially decreasing gaps\n",
       "labelizer : function (key) -> string, optional\n",
       "    A function that generate the text to display at the center of\n",
       "    each tile base on the key of that tile\n",
       "properties : function (key) -> dict, optional\n",
       "    A function that for each tile in the mosaic take the key\n",
       "    of the tile and returns the dictionary of properties\n",
       "    of the generated Rectangle, like color, hatch or similar.\n",
       "    A default properties set will be provided fot the keys whose\n",
       "    color has not been defined, and will use color variation to help\n",
       "    visually separates the various categories. It should return None\n",
       "    to indicate that it should use the default property for the tile.\n",
       "    A dictionary of the properties for each key can be passed,\n",
       "    and it will be internally converted to the correct function\n",
       "statistic: bool, optional (default False)\n",
       "    if true will use a crude statistical model to give colors to the plot.\n",
       "    If the tile has a containt that is more than 2 standard deviation\n",
       "    from the expected value under independence hipotesys, it will\n",
       "    go from green to red (for positive deviations, blue otherwise) and\n",
       "    will acquire an hatching when crosses the 3 sigma.\n",
       "title: string, optional\n",
       "    The title of the axis\n",
       "axes_label: boolean, optional\n",
       "    Show the name of each value of each category\n",
       "    on the axis (default) or hide them.\n",
       "label_rotation: float or list of float\n",
       "    the rotation of the axis label (if present). If a list is given\n",
       "    each axis can have a different rotation\n",
       "\n",
       "Returns\n",
       "---------\n",
       "fig : matplotlib.Figure\n",
       "    The generate figure\n",
       "rects : dict\n",
       "    A dictionary that has the same keys of the original\n",
       "    dataset, that holds a reference to the coordinates of the\n",
       "    tile and the Rectangle that represent it\n",
       "\n",
       "References\n",
       "----------\n",
       "A Brief History of the Mosaic Display\n",
       "    Michael Friendly, York University, Psychology Department\n",
       "    Journal of Computational and Graphical Statistics, 2001\n",
       "\n",
       "Mosaic Displays for Loglinear Models.\n",
       "    Michael Friendly, York University, Psychology Department\n",
       "    Proceedings of the Statistical Graphics Section, 1992, 61-68.\n",
       "\n",
       "Mosaic displays for multi-way contingecy tables.\n",
       "    Michael Friendly, York University, Psychology Department\n",
       "    Journal of the american statistical association\n",
       "    March 1994, Vol. 89, No. 425, Theory and Methods\n",
       "\n",
       "Examples\n",
       "----------\n",
       ">>> import numpy as np\n",
       ">>> import pandas as pd\n",
       ">>> import matplotlib.pyplot as plt\n",
       ">>> from statsmodels.graphics.mosaicplot import mosaic\n",
       "\n",
       "The most simple use case is to take a dictionary and plot the result\n",
       "\n",
       ">>> data = {'a': 10, 'b': 15, 'c': 16}\n",
       ">>> mosaic(data, title='basic dictionary')\n",
       ">>> plt.show()\n",
       "\n",
       "A more useful example is given by a dictionary with multiple indices.\n",
       "In this case we use a wider gap to a better visual separation of the\n",
       "resulting plot\n",
       "\n",
       ">>> data = {('a', 'b'): 1, ('a', 'c'): 2, ('d', 'b'): 3, ('d', 'c'): 4}\n",
       ">>> mosaic(data, gap=0.05, title='complete dictionary')\n",
       ">>> plt.show()\n",
       "\n",
       "The same data can be given as a simple or hierarchical indexed Series\n",
       "\n",
       ">>> rand = np.random.random\n",
       ">>> from itertools import product\n",
       ">>> tuples = list(product(['bar', 'baz', 'foo', 'qux'], ['one', 'two']))\n",
       ">>> index = pd.MultiIndex.from_tuples(tuples, names=['first', 'second'])\n",
       ">>> data = pd.Series(rand(8), index=index)\n",
       ">>> mosaic(data, title='hierarchical index series')\n",
       ">>> plt.show()\n",
       "\n",
       "The third accepted data structureis the np array, for which a\n",
       "very simple index will be created.\n",
       "\n",
       ">>> rand = np.random.random\n",
       ">>> data = 1+rand((2,2))\n",
       ">>> mosaic(data, title='random non-labeled array')\n",
       ">>> plt.show()\n",
       "\n",
       "If you need to modify the labeling and the coloring you can give\n",
       "a function tocreate the labels and one with the graphical properties\n",
       "starting from the key tuple\n",
       "\n",
       ">>> data = {'a': 10, 'b': 15, 'c': 16}\n",
       ">>> props = lambda key: {'color': 'r' if 'a' in key else 'gray'}\n",
       ">>> labelizer = lambda k: {('a',): 'first', ('b',): 'second',\n",
       "...                        ('c',): 'third'}[k]\n",
       ">>> mosaic(data, title='colored dictionary', properties=props,\n",
       "...        labelizer=labelizer)\n",
       ">>> plt.show()\n",
       "\n",
       "Using a DataFrame as source, specifying the name of the columns of interest\n",
       "\n",
       ">>> gender = ['male', 'male', 'male', 'female', 'female', 'female']\n",
       ">>> pet = ['cat', 'dog', 'dog', 'cat', 'dog', 'cat']\n",
       ">>> data = pd.DataFrame({'gender': gender, 'pet': pet})\n",
       ">>> mosaic(data, ['pet', 'gender'], title='DataFrame as Source')\n",
       ">>> plt.show()\n",
       "\n",
       ".. plot :: plots/graphics_mosaicplot_mosaic.py\n",
       "\u001b[1;31mFile:\u001b[0m      c:\\users\\andyp\\anaconda3\\lib\\site-packages\\statsmodels\\graphics\\mosaicplot.py\n",
       "\u001b[1;31mType:\u001b[0m      function\n"
      ]
     },
     "metadata": {},
     "output_type": "display_data"
    }
   ],
   "source": [
    "?mosaic"
   ]
  },
  {
   "cell_type": "code",
   "execution_count": 390,
   "metadata": {},
   "outputs": [
    {
     "data": {
      "text/plain": [
       "(<Figure size 432x288 with 3 Axes>,\n",
       " OrderedDict([(('Awarded', 'Top 20 School', 'Other'),\n",
       "               (0.0, 0.0, 0.1407574548204419, 0.26933343575365354)),\n",
       "              (('Awarded', 'Top 20 School', 'Top 20 School'),\n",
       "               (0.14194311446239793,\n",
       "                0.0,\n",
       "                0.3927893840597468,\n",
       "                0.26933343575365354)),\n",
       "              (('Awarded', 'Other', 'Other'),\n",
       "               (0.0,\n",
       "                0.2726556948898662,\n",
       "                0.39338073863311607,\n",
       "                0.7273443051101337)),\n",
       "              (('Awarded', 'Other', 'Top 20 School'),\n",
       "               (0.394566398275072,\n",
       "                0.2726556948898662,\n",
       "                0.1401661002470727,\n",
       "                0.7273443051101337)),\n",
       "              (('Honorable Mention', 'Top 20 School', 'Other'),\n",
       "               (0.5397076229002542,\n",
       "                0.0,\n",
       "                0.16092131182311167,\n",
       "                0.21807554374803628)),\n",
       "              (('Honorable Mention', 'Top 20 School', 'Top 20 School'),\n",
       "               (0.70164953866372,\n",
       "                0.0,\n",
       "                0.29835046133628007,\n",
       "                0.21807554374803628)),\n",
       "              (('Honorable Mention', 'Other', 'Other'),\n",
       "               (0.5397076229002542,\n",
       "                0.2213978028842489,\n",
       "                0.3378740050391801,\n",
       "                0.778602197115751)),\n",
       "              (('Honorable Mention', 'Other', 'Top 20 School'),\n",
       "               (0.8786022318797885,\n",
       "                0.2213978028842489,\n",
       "                0.12139776812021172,\n",
       "                0.778602197115751))]))"
      ]
     },
     "execution_count": 390,
     "metadata": {},
     "output_type": "execute_result"
    },
    {
     "data": {
      "image/png": "[encoded data removed]",
      "text/plain": [
       "<Figure size 432x288 with 3 Axes>"
      ]
     },
     "metadata": {
      "needs_background": "light"
     },
     "output_type": "display_data"
    }
   ],
   "source": [
    "#mosaic(df, ['Award Status', 'BI School Type', 'CI School Type'], title = \"GRFP Awards\", labelizer=None)\n",
    "#prop = {}\n",
    "#props[('Awarded', 'Top 20 School', 'Other')] = {'color': 'xkcd:orange'}\n",
    "#props[('Awarded', 'Top 20 School', 'Top 20 School')] = {'color': 'xkcd:pale blue '}\n",
    "#props[('Awarded', 'Other', 'Other')] = {'color': 'xkcd: yellow '}\n",
    "#props[('Awarded', 'Other', 'Top 20 School')] = {'color': 'xkcd: purple '}\n",
    "#props[('Honorable Mention', 'Top 20 School', 'Other')] = {'color': 'xkcd:orange', 'hatch':'/'}\n",
    "#props[('Honorable Mention', 'Top 20 School', 'Top 20 School')] = {'color': 'xkcd: pale blue', 'hatch':'/'}\n",
    "#props[('Honorable Mention', 'Other', 'Other')] = {'color': 'xkcd: yellow ', 'hatch':'/'}\n",
    "#props[('Honorable Mention', 'Other', 'Top 20 School')] = {'color': 'xkcd: purple', 'hatch':'/'}\n",
    "\n",
    "######props = lambda key: {'color': 'r' if 'Awarded' in key else 'gray'} \n",
    "\n",
    "mosaic(df, ['Award Status', 'BI School Type', 'CI School Type'], title = \"GRFP Awards\")"
   ]
  },
  {
   "cell_type": "code",
   "execution_count": 392,
   "metadata": {},
   "outputs": [
    {
     "data": {
      "text/plain": [
       "<matplotlib.axes._subplots.AxesSubplot at 0x2501971f408>"
      ]
     },
     "execution_count": 392,
     "metadata": {},
     "output_type": "execute_result"
    },
    {
     "data": {
      "image/png": "[encoded data removed]",
      "text/plain": [
       "<Figure size 432x288 with 1 Axes>"
      ]
     },
     "metadata": {
      "needs_background": "light"
     },
     "output_type": "display_data"
    }
   ],
   "source": [
    "df['BI School Type'].value_counts().plot(kind='bar')"
   ]
  },
  {
   "cell_type": "code",
   "execution_count": 329,
   "metadata": {},
   "outputs": [
    {
     "data": {
      "text/plain": [
       "<matplotlib.axes._subplots.AxesSubplot at 0x25014a4b048>"
      ]
     },
     "execution_count": 329,
     "metadata": {},
     "output_type": "execute_result"
    },
    {
     "data": {
      "image/png": "[encoded data removed]",
      "text/plain": [
       "<Figure size 432x288 with 1 Axes>"
      ]
     },
     "metadata": {
      "needs_background": "light"
     },
     "output_type": "display_data"
    }
   ],
   "source": [
    "df['CI School Type'].value_counts().plot(kind='bar')"
   ]
  },
  {
   "cell_type": "code",
   "execution_count": 330,
   "metadata": {},
   "outputs": [
    {
     "data": {
      "text/plain": [
       "<matplotlib.axes._subplots.AxesSubplot at 0x25014aac7c8>"
      ]
     },
     "execution_count": 330,
     "metadata": {},
     "output_type": "execute_result"
    },
    {
     "data": {
      "image/png": "[encoded data removed]",
      "text/plain": [
       "<Figure size 432x288 with 1 Axes>"
      ]
     },
     "metadata": {
      "needs_background": "light"
     },
     "output_type": "display_data"
    }
   ],
   "source": [
    "df['Award Status'].value_counts().plot(kind='bar')"
   ]
  },
  {
   "cell_type": "code",
   "execution_count": 323,
   "metadata": {},
   "outputs": [
    {
     "ename": "ValueError",
     "evalue": "Length of grouper (3863) and axis (663) must be same length",
     "output_type": "error",
     "traceback": [
      "\u001b[1;31m---------------------------------------------------------------------------\u001b[0m",
      "\u001b[1;31mValueError\u001b[0m                                Traceback (most recent call last)",
      "\u001b[1;32m<ipython-input-323-27a74591bd9f>\u001b[0m in \u001b[0;36m<module>\u001b[1;34m\u001b[0m\n\u001b[1;32m----> 1\u001b[1;33m \u001b[0msns\u001b[0m\u001b[1;33m.\u001b[0m\u001b[0mcatplot\u001b[0m\u001b[1;33m(\u001b[0m\u001b[0mx\u001b[0m\u001b[1;33m=\u001b[0m\u001b[1;34m'BI School Type'\u001b[0m\u001b[1;33m,\u001b[0m \u001b[0my\u001b[0m\u001b[1;33m=\u001b[0m\u001b[0mdf\u001b[0m\u001b[1;33m[\u001b[0m\u001b[1;34m\"Baccalaureate Institution\"\u001b[0m\u001b[1;33m]\u001b[0m\u001b[1;33m.\u001b[0m\u001b[0mvalue_counts\u001b[0m\u001b[1;33m(\u001b[0m\u001b[1;33m)\u001b[0m\u001b[1;33m,\u001b[0m \u001b[0mhue\u001b[0m\u001b[1;33m=\u001b[0m\u001b[1;34m'Award Status'\u001b[0m\u001b[1;33m,\u001b[0m \u001b[0mkind\u001b[0m\u001b[1;33m=\u001b[0m\u001b[1;34m'box'\u001b[0m\u001b[1;33m,\u001b[0m \u001b[0mdata\u001b[0m\u001b[1;33m=\u001b[0m\u001b[0mdf\u001b[0m\u001b[1;33m)\u001b[0m\u001b[1;33m\u001b[0m\u001b[1;33m\u001b[0m\u001b[0m\n\u001b[0m",
      "\u001b[1;32m~\\Anaconda3\\lib\\site-packages\\seaborn\\categorical.py\u001b[0m in \u001b[0;36mcatplot\u001b[1;34m(x, y, hue, data, row, col, col_wrap, estimator, ci, n_boot, units, order, hue_order, row_order, col_order, kind, height, aspect, orient, color, palette, legend, legend_out, sharex, sharey, margin_titles, facet_kws, **kwargs)\u001b[0m\n\u001b[0;32m   3714\u001b[0m     \u001b[1;31m# facets to ensure representation of all data in the final plot\u001b[0m\u001b[1;33m\u001b[0m\u001b[1;33m\u001b[0m\u001b[1;33m\u001b[0m\u001b[0m\n\u001b[0;32m   3715\u001b[0m     \u001b[0mp\u001b[0m \u001b[1;33m=\u001b[0m \u001b[0m_CategoricalPlotter\u001b[0m\u001b[1;33m(\u001b[0m\u001b[1;33m)\u001b[0m\u001b[1;33m\u001b[0m\u001b[1;33m\u001b[0m\u001b[0m\n\u001b[1;32m-> 3716\u001b[1;33m     \u001b[0mp\u001b[0m\u001b[1;33m.\u001b[0m\u001b[0mestablish_variables\u001b[0m\u001b[1;33m(\u001b[0m\u001b[0mx_\u001b[0m\u001b[1;33m,\u001b[0m \u001b[0my_\u001b[0m\u001b[1;33m,\u001b[0m \u001b[0mhue\u001b[0m\u001b[1;33m,\u001b[0m \u001b[0mdata\u001b[0m\u001b[1;33m,\u001b[0m \u001b[0morient\u001b[0m\u001b[1;33m,\u001b[0m \u001b[0morder\u001b[0m\u001b[1;33m,\u001b[0m \u001b[0mhue_order\u001b[0m\u001b[1;33m)\u001b[0m\u001b[1;33m\u001b[0m\u001b[1;33m\u001b[0m\u001b[0m\n\u001b[0m\u001b[0;32m   3717\u001b[0m     \u001b[0morder\u001b[0m \u001b[1;33m=\u001b[0m \u001b[0mp\u001b[0m\u001b[1;33m.\u001b[0m\u001b[0mgroup_names\u001b[0m\u001b[1;33m\u001b[0m\u001b[1;33m\u001b[0m\u001b[0m\n\u001b[0;32m   3718\u001b[0m     \u001b[0mhue_order\u001b[0m \u001b[1;33m=\u001b[0m \u001b[0mp\u001b[0m\u001b[1;33m.\u001b[0m\u001b[0mhue_names\u001b[0m\u001b[1;33m\u001b[0m\u001b[1;33m\u001b[0m\u001b[0m\n",
      "\u001b[1;32m~\\Anaconda3\\lib\\site-packages\\seaborn\\categorical.py\u001b[0m in \u001b[0;36mestablish_variables\u001b[1;34m(self, x, y, hue, data, orient, order, hue_order, units)\u001b[0m\n\u001b[0;32m    205\u001b[0m                 \u001b[1;31m# Group the numeric data\u001b[0m\u001b[1;33m\u001b[0m\u001b[1;33m\u001b[0m\u001b[1;33m\u001b[0m\u001b[0m\n\u001b[0;32m    206\u001b[0m                 plot_data, value_label = self._group_longform(vals, groups,\n\u001b[1;32m--> 207\u001b[1;33m                                                               group_names)\n\u001b[0m\u001b[0;32m    208\u001b[0m \u001b[1;33m\u001b[0m\u001b[0m\n\u001b[0;32m    209\u001b[0m                 \u001b[1;31m# Now handle the hue levels for nested ordering\u001b[0m\u001b[1;33m\u001b[0m\u001b[1;33m\u001b[0m\u001b[1;33m\u001b[0m\u001b[0m\n",
      "\u001b[1;32m~\\Anaconda3\\lib\\site-packages\\seaborn\\categorical.py\u001b[0m in \u001b[0;36m_group_longform\u001b[1;34m(self, vals, grouper, order)\u001b[0m\n\u001b[0;32m    247\u001b[0m \u001b[1;33m\u001b[0m\u001b[0m\n\u001b[0;32m    248\u001b[0m         \u001b[1;31m# Group the val data\u001b[0m\u001b[1;33m\u001b[0m\u001b[1;33m\u001b[0m\u001b[1;33m\u001b[0m\u001b[0m\n\u001b[1;32m--> 249\u001b[1;33m         \u001b[0mgrouped_vals\u001b[0m \u001b[1;33m=\u001b[0m \u001b[0mvals\u001b[0m\u001b[1;33m.\u001b[0m\u001b[0mgroupby\u001b[0m\u001b[1;33m(\u001b[0m\u001b[0mgrouper\u001b[0m\u001b[1;33m)\u001b[0m\u001b[1;33m\u001b[0m\u001b[1;33m\u001b[0m\u001b[0m\n\u001b[0m\u001b[0;32m    250\u001b[0m         \u001b[0mout_data\u001b[0m \u001b[1;33m=\u001b[0m \u001b[1;33m[\u001b[0m\u001b[1;33m]\u001b[0m\u001b[1;33m\u001b[0m\u001b[1;33m\u001b[0m\u001b[0m\n\u001b[0;32m    251\u001b[0m         \u001b[1;32mfor\u001b[0m \u001b[0mg\u001b[0m \u001b[1;32min\u001b[0m \u001b[0morder\u001b[0m\u001b[1;33m:\u001b[0m\u001b[1;33m\u001b[0m\u001b[1;33m\u001b[0m\u001b[0m\n",
      "\u001b[1;32m~\\Anaconda3\\lib\\site-packages\\pandas\\core\\generic.py\u001b[0m in \u001b[0;36mgroupby\u001b[1;34m(self, by, axis, level, as_index, sort, group_keys, squeeze, observed, **kwargs)\u001b[0m\n\u001b[0;32m   7892\u001b[0m             \u001b[0msqueeze\u001b[0m\u001b[1;33m=\u001b[0m\u001b[0msqueeze\u001b[0m\u001b[1;33m,\u001b[0m\u001b[1;33m\u001b[0m\u001b[1;33m\u001b[0m\u001b[0m\n\u001b[0;32m   7893\u001b[0m             \u001b[0mobserved\u001b[0m\u001b[1;33m=\u001b[0m\u001b[0mobserved\u001b[0m\u001b[1;33m,\u001b[0m\u001b[1;33m\u001b[0m\u001b[1;33m\u001b[0m\u001b[0m\n\u001b[1;32m-> 7894\u001b[1;33m             \u001b[1;33m**\u001b[0m\u001b[0mkwargs\u001b[0m\u001b[1;33m\u001b[0m\u001b[1;33m\u001b[0m\u001b[0m\n\u001b[0m\u001b[0;32m   7895\u001b[0m         )\n\u001b[0;32m   7896\u001b[0m \u001b[1;33m\u001b[0m\u001b[0m\n",
      "\u001b[1;32m~\\Anaconda3\\lib\\site-packages\\pandas\\core\\groupby\\groupby.py\u001b[0m in \u001b[0;36mgroupby\u001b[1;34m(obj, by, **kwds)\u001b[0m\n\u001b[0;32m   2520\u001b[0m         \u001b[1;32mraise\u001b[0m \u001b[0mTypeError\u001b[0m\u001b[1;33m(\u001b[0m\u001b[1;34m\"invalid type: {}\"\u001b[0m\u001b[1;33m.\u001b[0m\u001b[0mformat\u001b[0m\u001b[1;33m(\u001b[0m\u001b[0mobj\u001b[0m\u001b[1;33m)\u001b[0m\u001b[1;33m)\u001b[0m\u001b[1;33m\u001b[0m\u001b[1;33m\u001b[0m\u001b[0m\n\u001b[0;32m   2521\u001b[0m \u001b[1;33m\u001b[0m\u001b[0m\n\u001b[1;32m-> 2522\u001b[1;33m     \u001b[1;32mreturn\u001b[0m \u001b[0mklass\u001b[0m\u001b[1;33m(\u001b[0m\u001b[0mobj\u001b[0m\u001b[1;33m,\u001b[0m \u001b[0mby\u001b[0m\u001b[1;33m,\u001b[0m \u001b[1;33m**\u001b[0m\u001b[0mkwds\u001b[0m\u001b[1;33m)\u001b[0m\u001b[1;33m\u001b[0m\u001b[1;33m\u001b[0m\u001b[0m\n\u001b[0m",
      "\u001b[1;32m~\\Anaconda3\\lib\\site-packages\\pandas\\core\\groupby\\groupby.py\u001b[0m in \u001b[0;36m__init__\u001b[1;34m(self, obj, keys, axis, level, grouper, exclusions, selection, as_index, sort, group_keys, squeeze, observed, **kwargs)\u001b[0m\n\u001b[0;32m    389\u001b[0m                 \u001b[0msort\u001b[0m\u001b[1;33m=\u001b[0m\u001b[0msort\u001b[0m\u001b[1;33m,\u001b[0m\u001b[1;33m\u001b[0m\u001b[1;33m\u001b[0m\u001b[0m\n\u001b[0;32m    390\u001b[0m                 \u001b[0mobserved\u001b[0m\u001b[1;33m=\u001b[0m\u001b[0mobserved\u001b[0m\u001b[1;33m,\u001b[0m\u001b[1;33m\u001b[0m\u001b[1;33m\u001b[0m\u001b[0m\n\u001b[1;32m--> 391\u001b[1;33m                 \u001b[0mmutated\u001b[0m\u001b[1;33m=\u001b[0m\u001b[0mself\u001b[0m\u001b[1;33m.\u001b[0m\u001b[0mmutated\u001b[0m\u001b[1;33m,\u001b[0m\u001b[1;33m\u001b[0m\u001b[1;33m\u001b[0m\u001b[0m\n\u001b[0m\u001b[0;32m    392\u001b[0m             )\n\u001b[0;32m    393\u001b[0m \u001b[1;33m\u001b[0m\u001b[0m\n",
      "\u001b[1;32m~\\Anaconda3\\lib\\site-packages\\pandas\\core\\groupby\\grouper.py\u001b[0m in \u001b[0;36m_get_grouper\u001b[1;34m(obj, key, axis, level, sort, observed, mutated, validate)\u001b[0m\n\u001b[0;32m    632\u001b[0m                     \u001b[1;34m\"Length of grouper ({len_gpr}) and axis ({len_axis})\"\u001b[0m\u001b[1;33m\u001b[0m\u001b[1;33m\u001b[0m\u001b[0m\n\u001b[0;32m    633\u001b[0m                     \" must be same length\".format(\n\u001b[1;32m--> 634\u001b[1;33m                         \u001b[0mlen_gpr\u001b[0m\u001b[1;33m=\u001b[0m\u001b[0mlen\u001b[0m\u001b[1;33m(\u001b[0m\u001b[0mgpr\u001b[0m\u001b[1;33m)\u001b[0m\u001b[1;33m,\u001b[0m \u001b[0mlen_axis\u001b[0m\u001b[1;33m=\u001b[0m\u001b[0mobj\u001b[0m\u001b[1;33m.\u001b[0m\u001b[0mshape\u001b[0m\u001b[1;33m[\u001b[0m\u001b[0maxis\u001b[0m\u001b[1;33m]\u001b[0m\u001b[1;33m\u001b[0m\u001b[1;33m\u001b[0m\u001b[0m\n\u001b[0m\u001b[0;32m    635\u001b[0m                     )\n\u001b[0;32m    636\u001b[0m                 )\n",
      "\u001b[1;31mValueError\u001b[0m: Length of grouper (3863) and axis (663) must be same length"
     ]
    }
   ],
   "source": [
    "sns.catplot(x='BI School Type', y=df[\"Baccalaureate Institution\"].value_counts(), hue='Award Status', kind='box', data=df)"
   ]
  },
  {
   "cell_type": "code",
   "execution_count": 288,
   "metadata": {},
   "outputs": [
    {
     "ename": "TypeError",
     "evalue": "no numeric data to plot",
     "output_type": "error",
     "traceback": [
      "\u001b[1;31m---------------------------------------------------------------------------\u001b[0m",
      "\u001b[1;31mTypeError\u001b[0m                                 Traceback (most recent call last)",
      "\u001b[1;32m<ipython-input-288-4735fc8fc92a>\u001b[0m in \u001b[0;36m<module>\u001b[1;34m\u001b[0m\n\u001b[1;32m----> 1\u001b[1;33m \u001b[0mdf\u001b[0m\u001b[1;33m.\u001b[0m\u001b[0mplot\u001b[0m\u001b[1;33m(\u001b[0m\u001b[0mkind\u001b[0m\u001b[1;33m=\u001b[0m\u001b[1;34m'bar'\u001b[0m\u001b[1;33m,\u001b[0m \u001b[0mx\u001b[0m\u001b[1;33m=\u001b[0m\u001b[1;34m'Baccalaureate Institution'\u001b[0m\u001b[1;33m,\u001b[0m \u001b[0my\u001b[0m\u001b[1;33m=\u001b[0m\u001b[1;34m'Award Status'\u001b[0m\u001b[1;33m)\u001b[0m\u001b[1;33m\u001b[0m\u001b[1;33m\u001b[0m\u001b[0m\n\u001b[0m",
      "\u001b[1;32m~\\Anaconda3\\lib\\site-packages\\pandas\\plotting\\_core.py\u001b[0m in \u001b[0;36m__call__\u001b[1;34m(self, *args, **kwargs)\u001b[0m\n\u001b[0;32m    792\u001b[0m                     \u001b[0mdata\u001b[0m\u001b[1;33m.\u001b[0m\u001b[0mcolumns\u001b[0m \u001b[1;33m=\u001b[0m \u001b[0mlabel_name\u001b[0m\u001b[1;33m\u001b[0m\u001b[1;33m\u001b[0m\u001b[0m\n\u001b[0;32m    793\u001b[0m \u001b[1;33m\u001b[0m\u001b[0m\n\u001b[1;32m--> 794\u001b[1;33m         \u001b[1;32mreturn\u001b[0m \u001b[0mplot_backend\u001b[0m\u001b[1;33m.\u001b[0m\u001b[0mplot\u001b[0m\u001b[1;33m(\u001b[0m\u001b[0mdata\u001b[0m\u001b[1;33m,\u001b[0m \u001b[0mkind\u001b[0m\u001b[1;33m=\u001b[0m\u001b[0mkind\u001b[0m\u001b[1;33m,\u001b[0m \u001b[1;33m**\u001b[0m\u001b[0mkwargs\u001b[0m\u001b[1;33m)\u001b[0m\u001b[1;33m\u001b[0m\u001b[1;33m\u001b[0m\u001b[0m\n\u001b[0m\u001b[0;32m    795\u001b[0m \u001b[1;33m\u001b[0m\u001b[0m\n\u001b[0;32m    796\u001b[0m     \u001b[1;32mdef\u001b[0m \u001b[0mline\u001b[0m\u001b[1;33m(\u001b[0m\u001b[0mself\u001b[0m\u001b[1;33m,\u001b[0m \u001b[0mx\u001b[0m\u001b[1;33m=\u001b[0m\u001b[1;32mNone\u001b[0m\u001b[1;33m,\u001b[0m \u001b[0my\u001b[0m\u001b[1;33m=\u001b[0m\u001b[1;32mNone\u001b[0m\u001b[1;33m,\u001b[0m \u001b[1;33m**\u001b[0m\u001b[0mkwargs\u001b[0m\u001b[1;33m)\u001b[0m\u001b[1;33m:\u001b[0m\u001b[1;33m\u001b[0m\u001b[1;33m\u001b[0m\u001b[0m\n",
      "\u001b[1;32m~\\Anaconda3\\lib\\site-packages\\pandas\\plotting\\_matplotlib\\__init__.py\u001b[0m in \u001b[0;36mplot\u001b[1;34m(data, kind, **kwargs)\u001b[0m\n\u001b[0;32m     60\u001b[0m             \u001b[0mkwargs\u001b[0m\u001b[1;33m[\u001b[0m\u001b[1;34m\"ax\"\u001b[0m\u001b[1;33m]\u001b[0m \u001b[1;33m=\u001b[0m \u001b[0mgetattr\u001b[0m\u001b[1;33m(\u001b[0m\u001b[0max\u001b[0m\u001b[1;33m,\u001b[0m \u001b[1;34m\"left_ax\"\u001b[0m\u001b[1;33m,\u001b[0m \u001b[0max\u001b[0m\u001b[1;33m)\u001b[0m\u001b[1;33m\u001b[0m\u001b[1;33m\u001b[0m\u001b[0m\n\u001b[0;32m     61\u001b[0m     \u001b[0mplot_obj\u001b[0m \u001b[1;33m=\u001b[0m \u001b[0mPLOT_CLASSES\u001b[0m\u001b[1;33m[\u001b[0m\u001b[0mkind\u001b[0m\u001b[1;33m]\u001b[0m\u001b[1;33m(\u001b[0m\u001b[0mdata\u001b[0m\u001b[1;33m,\u001b[0m \u001b[1;33m**\u001b[0m\u001b[0mkwargs\u001b[0m\u001b[1;33m)\u001b[0m\u001b[1;33m\u001b[0m\u001b[1;33m\u001b[0m\u001b[0m\n\u001b[1;32m---> 62\u001b[1;33m     \u001b[0mplot_obj\u001b[0m\u001b[1;33m.\u001b[0m\u001b[0mgenerate\u001b[0m\u001b[1;33m(\u001b[0m\u001b[1;33m)\u001b[0m\u001b[1;33m\u001b[0m\u001b[1;33m\u001b[0m\u001b[0m\n\u001b[0m\u001b[0;32m     63\u001b[0m     \u001b[0mplot_obj\u001b[0m\u001b[1;33m.\u001b[0m\u001b[0mdraw\u001b[0m\u001b[1;33m(\u001b[0m\u001b[1;33m)\u001b[0m\u001b[1;33m\u001b[0m\u001b[1;33m\u001b[0m\u001b[0m\n\u001b[0;32m     64\u001b[0m     \u001b[1;32mreturn\u001b[0m \u001b[0mplot_obj\u001b[0m\u001b[1;33m.\u001b[0m\u001b[0mresult\u001b[0m\u001b[1;33m\u001b[0m\u001b[1;33m\u001b[0m\u001b[0m\n",
      "\u001b[1;32m~\\Anaconda3\\lib\\site-packages\\pandas\\plotting\\_matplotlib\\core.py\u001b[0m in \u001b[0;36mgenerate\u001b[1;34m(self)\u001b[0m\n\u001b[0;32m    277\u001b[0m     \u001b[1;32mdef\u001b[0m \u001b[0mgenerate\u001b[0m\u001b[1;33m(\u001b[0m\u001b[0mself\u001b[0m\u001b[1;33m)\u001b[0m\u001b[1;33m:\u001b[0m\u001b[1;33m\u001b[0m\u001b[1;33m\u001b[0m\u001b[0m\n\u001b[0;32m    278\u001b[0m         \u001b[0mself\u001b[0m\u001b[1;33m.\u001b[0m\u001b[0m_args_adjust\u001b[0m\u001b[1;33m(\u001b[0m\u001b[1;33m)\u001b[0m\u001b[1;33m\u001b[0m\u001b[1;33m\u001b[0m\u001b[0m\n\u001b[1;32m--> 279\u001b[1;33m         \u001b[0mself\u001b[0m\u001b[1;33m.\u001b[0m\u001b[0m_compute_plot_data\u001b[0m\u001b[1;33m(\u001b[0m\u001b[1;33m)\u001b[0m\u001b[1;33m\u001b[0m\u001b[1;33m\u001b[0m\u001b[0m\n\u001b[0m\u001b[0;32m    280\u001b[0m         \u001b[0mself\u001b[0m\u001b[1;33m.\u001b[0m\u001b[0m_setup_subplots\u001b[0m\u001b[1;33m(\u001b[0m\u001b[1;33m)\u001b[0m\u001b[1;33m\u001b[0m\u001b[1;33m\u001b[0m\u001b[0m\n\u001b[0;32m    281\u001b[0m         \u001b[0mself\u001b[0m\u001b[1;33m.\u001b[0m\u001b[0m_make_plot\u001b[0m\u001b[1;33m(\u001b[0m\u001b[1;33m)\u001b[0m\u001b[1;33m\u001b[0m\u001b[1;33m\u001b[0m\u001b[0m\n",
      "\u001b[1;32m~\\Anaconda3\\lib\\site-packages\\pandas\\plotting\\_matplotlib\\core.py\u001b[0m in \u001b[0;36m_compute_plot_data\u001b[1;34m(self)\u001b[0m\n\u001b[0;32m    412\u001b[0m         \u001b[1;31m# no non-numeric frames or series allowed\u001b[0m\u001b[1;33m\u001b[0m\u001b[1;33m\u001b[0m\u001b[1;33m\u001b[0m\u001b[0m\n\u001b[0;32m    413\u001b[0m         \u001b[1;32mif\u001b[0m \u001b[0mis_empty\u001b[0m\u001b[1;33m:\u001b[0m\u001b[1;33m\u001b[0m\u001b[1;33m\u001b[0m\u001b[0m\n\u001b[1;32m--> 414\u001b[1;33m             \u001b[1;32mraise\u001b[0m \u001b[0mTypeError\u001b[0m\u001b[1;33m(\u001b[0m\u001b[1;34m\"no numeric data to plot\"\u001b[0m\u001b[1;33m)\u001b[0m\u001b[1;33m\u001b[0m\u001b[1;33m\u001b[0m\u001b[0m\n\u001b[0m\u001b[0;32m    415\u001b[0m \u001b[1;33m\u001b[0m\u001b[0m\n\u001b[0;32m    416\u001b[0m         \u001b[1;31m# GH25587: cast ExtensionArray of pandas (IntegerArray, etc.) to\u001b[0m\u001b[1;33m\u001b[0m\u001b[1;33m\u001b[0m\u001b[1;33m\u001b[0m\u001b[0m\n",
      "\u001b[1;31mTypeError\u001b[0m: no numeric data to plot"
     ]
    }
   ],
   "source": [
    "df.plot(kind='bar', x='Baccalaureate Institution', y='Award Status')"
   ]
  },
  {
   "cell_type": "code",
   "execution_count": null,
   "metadata": {},
   "outputs": [],
   "source": []
  },
  {
   "cell_type": "code",
   "execution_count": 281,
   "metadata": {},
   "outputs": [
    {
     "data": {
      "text/plain": [
       "array([<matplotlib.axes._subplots.AxesSubplot object at 0x000002500F4F8808>],\n",
       "      dtype=object)"
      ]
     },
     "execution_count": 281,
     "metadata": {},
     "output_type": "execute_result"
    },
    {
     "data": {
      "image/png": "[encoded data removed]",
      "text/plain": [
       "<Figure size 432x288 with 1 Axes>"
      ]
     },
     "metadata": {
      "needs_background": "light"
     },
     "output_type": "display_data"
    }
   ],
   "source": [
    "df['BI School Type'].value_counts().plot(kind='bar', subplots = True)"
   ]
  },
  {
   "cell_type": "code",
   "execution_count": 276,
   "metadata": {},
   "outputs": [
    {
     "name": "stderr",
     "output_type": "stream",
     "text": [
      "C:\\Users\\andyp\\Anaconda3\\lib\\site-packages\\ipykernel_launcher.py:4: FutureWarning: `Series.plot()` should not be called with positional arguments, only keyword arguments. The order of positional arguments will change in the future. Use `Series.plot(kind='bar')` instead of `Series.plot('bar',)`.\n",
      "  after removing the cwd from sys.path.\n",
      "C:\\Users\\andyp\\Anaconda3\\lib\\site-packages\\ipykernel_launcher.py:5: UserWarning: Matplotlib is currently using module://ipykernel.pylab.backend_inline, which is a non-GUI backend, so cannot show the figure.\n",
      "  \"\"\"\n"
     ]
    },
    {
     "data": {
      "image/png": "[encoded data removed]",
      "text/plain": [
       "<Figure size 432x288 with 2 Axes>"
      ]
     },
     "metadata": {
      "needs_background": "light"
     },
     "output_type": "display_data"
    }
   ],
   "source": [
    "categorical_features = [\"BI School Type\", \"CI School Type\"]\n",
    "fig, ax = plt.subplots(1, len(categorical_features))\n",
    "for i, categorical_feature in enumerate(df[categorical_features]):\n",
    "    df[categorical_feature].value_counts().plot(\"bar\", ax=ax[i]).set_title(categorical_feature)\n",
    "fig.show()"
   ]
  },
  {
   "cell_type": "code",
   "execution_count": 267,
   "metadata": {},
   "outputs": [
    {
     "ename": "AttributeError",
     "evalue": "'DataFrameGroupBy' object has no attribute 'value_counts'",
     "output_type": "error",
     "traceback": [
      "\u001b[1;31m---------------------------------------------------------------------------\u001b[0m",
      "\u001b[1;31mAttributeError\u001b[0m                            Traceback (most recent call last)",
      "\u001b[1;32m<ipython-input-267-75fd11ca1704>\u001b[0m in \u001b[0;36m<module>\u001b[1;34m\u001b[0m\n\u001b[0;32m      1\u001b[0m \u001b[0mgroup_by_top20BI\u001b[0m \u001b[1;33m=\u001b[0m \u001b[0mdf\u001b[0m\u001b[1;33m.\u001b[0m\u001b[0mgroupby\u001b[0m\u001b[1;33m(\u001b[0m\u001b[0mby\u001b[0m\u001b[1;33m=\u001b[0m\u001b[1;33m[\u001b[0m\u001b[1;34m'BI School Type'\u001b[0m\u001b[1;33m]\u001b[0m\u001b[1;33m)\u001b[0m\u001b[1;33m\u001b[0m\u001b[1;33m\u001b[0m\u001b[0m\n\u001b[1;32m----> 2\u001b[1;33m \u001b[0mBI_avg\u001b[0m \u001b[1;33m=\u001b[0m \u001b[0mgroup_by_top20BI\u001b[0m\u001b[1;33m.\u001b[0m\u001b[0mvalue_counts\u001b[0m\u001b[1;33m.\u001b[0m\u001b[0mmean\u001b[0m\u001b[1;33m(\u001b[0m\u001b[1;33m)\u001b[0m\u001b[1;33m\u001b[0m\u001b[1;33m\u001b[0m\u001b[0m\n\u001b[0m\u001b[0;32m      3\u001b[0m \u001b[0mBI_count\u001b[0m \u001b[1;33m=\u001b[0m \u001b[0mgroup_by_top20BI\u001b[0m\u001b[1;33m.\u001b[0m\u001b[0mvalue_counts\u001b[0m\u001b[1;33m.\u001b[0m\u001b[0mcount\u001b[0m\u001b[1;33m(\u001b[0m\u001b[1;33m)\u001b[0m\u001b[1;33m\u001b[0m\u001b[1;33m\u001b[0m\u001b[0m\n",
      "\u001b[1;32m~\\Anaconda3\\lib\\site-packages\\pandas\\core\\groupby\\groupby.py\u001b[0m in \u001b[0;36m__getattr__\u001b[1;34m(self, attr)\u001b[0m\n\u001b[0;32m    564\u001b[0m \u001b[1;33m\u001b[0m\u001b[0m\n\u001b[0;32m    565\u001b[0m         raise AttributeError(\n\u001b[1;32m--> 566\u001b[1;33m             \u001b[1;34m\"%r object has no attribute %r\"\u001b[0m \u001b[1;33m%\u001b[0m \u001b[1;33m(\u001b[0m\u001b[0mtype\u001b[0m\u001b[1;33m(\u001b[0m\u001b[0mself\u001b[0m\u001b[1;33m)\u001b[0m\u001b[1;33m.\u001b[0m\u001b[0m__name__\u001b[0m\u001b[1;33m,\u001b[0m \u001b[0mattr\u001b[0m\u001b[1;33m)\u001b[0m\u001b[1;33m\u001b[0m\u001b[1;33m\u001b[0m\u001b[0m\n\u001b[0m\u001b[0;32m    567\u001b[0m         )\n\u001b[0;32m    568\u001b[0m \u001b[1;33m\u001b[0m\u001b[0m\n",
      "\u001b[1;31mAttributeError\u001b[0m: 'DataFrameGroupBy' object has no attribute 'value_counts'"
     ]
    }
   ],
   "source": [
    "group_by_top20BI = df.groupby(by=['BI School Type'])\n",
    "BI_avg = group_by_top20BI.value_counts.mean()\n",
    "BI_count = group_by_top20BI.value_counts.count()"
   ]
  },
  {
   "cell_type": "code",
   "execution_count": 263,
   "metadata": {},
   "outputs": [],
   "source": [
    "#Only_Undergrad = ['Only Undergrad']\n",
    "#df['CI School Type'] = np.where(df['Current Institution'].isin(Only_Undergrad, top_20_schools_CI), 'Only Undergrad', 'Top 20 School')"
   ]
  },
  {
   "cell_type": "code",
   "execution_count": 264,
   "metadata": {},
   "outputs": [],
   "source": [
    "#df[['Baccalaureate Institution', 'Current Institution', 'BI School Type', 'CI School Type']]"
   ]
  },
  {
   "cell_type": "code",
   "execution_count": 248,
   "metadata": {},
   "outputs": [],
   "source": [
    "#df['BI School Type'].value_counts().plot(kind='bar')\n",
    "#df['BI School Type'].value_counts().plot(kind='pie')"
   ]
  },
  {
   "cell_type": "code",
   "execution_count": 247,
   "metadata": {},
   "outputs": [],
   "source": [
    "#df['CI School Type'].value_counts().plot(kind='bar')\n",
    "#df['CI School Type'].value_counts().plot(kind='pie')"
   ]
  },
  {
   "cell_type": "code",
   "execution_count": null,
   "metadata": {},
   "outputs": [],
   "source": [
    "#df['Award Status'].value_counts().plot(kind='pie')\n",
    "#df['Award Status'].value_counts().plot(kind='bar')"
   ]
  },
  {
   "cell_type": "code",
   "execution_count": 244,
   "metadata": {},
   "outputs": [],
   "source": [
    "#g = df.groupby('Baccalaureate Institution')\n",
    "#g"
   ]
  },
  {
   "cell_type": "code",
   "execution_count": null,
   "metadata": {},
   "outputs": [],
   "source": []
  }
 ],
 "metadata": {
  "kernelspec": {
   "display_name": "Python 3",
   "language": "python",
   "name": "python3"
  },
  "language_info": {
   "codemirror_mode": {
    "name": "ipython",
    "version": 3
   },
   "file_extension": ".py",
   "mimetype": "text/x-python",
   "name": "python",
   "nbconvert_exporter": "python",
   "pygments_lexer": "ipython3",
   "version": "3.7.4"
  }
 },
 "nbformat": 4,
 "nbformat_minor": 4
}
